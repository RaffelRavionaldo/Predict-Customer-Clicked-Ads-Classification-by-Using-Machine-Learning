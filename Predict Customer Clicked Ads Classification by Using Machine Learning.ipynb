{
 "cells": [
  {
   "cell_type": "code",
   "execution_count": 1,
   "id": "d39b9ab7-cfd9-43ae-8d09-597a55069942",
   "metadata": {},
   "outputs": [],
   "source": [
    "import pandas as pd\n",
    "import numpy as np\n",
    "\n",
    "import matplotlib.pyplot as plt\n",
    "import seaborn as sns\n",
    "\n",
    "from scipy.stats import chi2_contingency\n",
    "from scipy import stats\n",
    "\n",
    "from sklearn.preprocessing import LabelEncoder\n",
    "from sklearn.preprocessing import OneHotEncoder\n",
    "from sklearn.model_selection import train_test_split\n",
    "\n",
    "from lazypredict.Supervised import LazyClassifier\n",
    "import xgboost as xgb\n",
    "from sklearn.metrics import classification_report, confusion_matrix, ConfusionMatrixDisplay"
   ]
  },
  {
   "cell_type": "code",
   "execution_count": 2,
   "id": "ec758699-8e4a-4896-94d2-1608036f6460",
   "metadata": {},
   "outputs": [],
   "source": [
    "df = pd.read_csv('Clicked Ads Dataset.csv', index_col = [0])"
   ]
  },
  {
   "cell_type": "code",
   "execution_count": 3,
   "id": "d1736cb6-fcdc-4721-9fc1-31f04bd20fae",
   "metadata": {},
   "outputs": [
    {
     "data": {
      "text/html": [
       "<div>\n",
       "<style scoped>\n",
       "    .dataframe tbody tr th:only-of-type {\n",
       "        vertical-align: middle;\n",
       "    }\n",
       "\n",
       "    .dataframe tbody tr th {\n",
       "        vertical-align: top;\n",
       "    }\n",
       "\n",
       "    .dataframe thead th {\n",
       "        text-align: right;\n",
       "    }\n",
       "</style>\n",
       "<table border=\"1\" class=\"dataframe\">\n",
       "  <thead>\n",
       "    <tr style=\"text-align: right;\">\n",
       "      <th></th>\n",
       "      <th>Daily Time Spent on Site</th>\n",
       "      <th>Age</th>\n",
       "      <th>Area Income</th>\n",
       "      <th>Daily Internet Usage</th>\n",
       "      <th>Male</th>\n",
       "      <th>Timestamp</th>\n",
       "      <th>Clicked on Ad</th>\n",
       "      <th>city</th>\n",
       "      <th>province</th>\n",
       "      <th>category</th>\n",
       "    </tr>\n",
       "  </thead>\n",
       "  <tbody>\n",
       "    <tr>\n",
       "      <th>0</th>\n",
       "      <td>68.95</td>\n",
       "      <td>35</td>\n",
       "      <td>432837300.00</td>\n",
       "      <td>256.09</td>\n",
       "      <td>Perempuan</td>\n",
       "      <td>3/27/2016 0:53</td>\n",
       "      <td>No</td>\n",
       "      <td>Jakarta Timur</td>\n",
       "      <td>Daerah Khusus Ibukota Jakarta</td>\n",
       "      <td>Furniture</td>\n",
       "    </tr>\n",
       "    <tr>\n",
       "      <th>1</th>\n",
       "      <td>80.23</td>\n",
       "      <td>31</td>\n",
       "      <td>479092950.00</td>\n",
       "      <td>193.77</td>\n",
       "      <td>Laki-Laki</td>\n",
       "      <td>4/4/2016 1:39</td>\n",
       "      <td>No</td>\n",
       "      <td>Denpasar</td>\n",
       "      <td>Bali</td>\n",
       "      <td>Food</td>\n",
       "    </tr>\n",
       "    <tr>\n",
       "      <th>2</th>\n",
       "      <td>69.47</td>\n",
       "      <td>26</td>\n",
       "      <td>418501580.00</td>\n",
       "      <td>236.50</td>\n",
       "      <td>Perempuan</td>\n",
       "      <td>3/13/2016 20:35</td>\n",
       "      <td>No</td>\n",
       "      <td>Surabaya</td>\n",
       "      <td>Jawa Timur</td>\n",
       "      <td>Electronic</td>\n",
       "    </tr>\n",
       "    <tr>\n",
       "      <th>3</th>\n",
       "      <td>74.15</td>\n",
       "      <td>29</td>\n",
       "      <td>383643260.00</td>\n",
       "      <td>245.89</td>\n",
       "      <td>Laki-Laki</td>\n",
       "      <td>1/10/2016 2:31</td>\n",
       "      <td>No</td>\n",
       "      <td>Batam</td>\n",
       "      <td>Kepulauan Riau</td>\n",
       "      <td>House</td>\n",
       "    </tr>\n",
       "    <tr>\n",
       "      <th>4</th>\n",
       "      <td>68.37</td>\n",
       "      <td>35</td>\n",
       "      <td>517229930.00</td>\n",
       "      <td>225.58</td>\n",
       "      <td>Perempuan</td>\n",
       "      <td>6/3/2016 3:36</td>\n",
       "      <td>No</td>\n",
       "      <td>Medan</td>\n",
       "      <td>Sumatra Utara</td>\n",
       "      <td>Finance</td>\n",
       "    </tr>\n",
       "  </tbody>\n",
       "</table>\n",
       "</div>"
      ],
      "text/plain": [
       "   Daily Time Spent on Site  Age  Area Income  Daily Internet Usage  \\\n",
       "0                     68.95   35 432837300.00                256.09   \n",
       "1                     80.23   31 479092950.00                193.77   \n",
       "2                     69.47   26 418501580.00                236.50   \n",
       "3                     74.15   29 383643260.00                245.89   \n",
       "4                     68.37   35 517229930.00                225.58   \n",
       "\n",
       "        Male        Timestamp Clicked on Ad           city  \\\n",
       "0  Perempuan   3/27/2016 0:53            No  Jakarta Timur   \n",
       "1  Laki-Laki    4/4/2016 1:39            No       Denpasar   \n",
       "2  Perempuan  3/13/2016 20:35            No       Surabaya   \n",
       "3  Laki-Laki   1/10/2016 2:31            No          Batam   \n",
       "4  Perempuan    6/3/2016 3:36            No          Medan   \n",
       "\n",
       "                        province    category  \n",
       "0  Daerah Khusus Ibukota Jakarta   Furniture  \n",
       "1                           Bali        Food  \n",
       "2                     Jawa Timur  Electronic  \n",
       "3                 Kepulauan Riau       House  \n",
       "4                  Sumatra Utara     Finance  "
      ]
     },
     "execution_count": 3,
     "metadata": {},
     "output_type": "execute_result"
    }
   ],
   "source": [
    "df.head()"
   ]
  },
  {
   "cell_type": "code",
   "execution_count": 4,
   "id": "0593d637-a71e-4e5c-8365-8d1aea99ee1c",
   "metadata": {},
   "outputs": [
    {
     "name": "stdout",
     "output_type": "stream",
     "text": [
      "<class 'pandas.core.frame.DataFrame'>\n",
      "Int64Index: 1000 entries, 0 to 999\n",
      "Data columns (total 10 columns):\n",
      " #   Column                    Non-Null Count  Dtype  \n",
      "---  ------                    --------------  -----  \n",
      " 0   Daily Time Spent on Site  987 non-null    float64\n",
      " 1   Age                       1000 non-null   int64  \n",
      " 2   Area Income               987 non-null    float64\n",
      " 3   Daily Internet Usage      989 non-null    float64\n",
      " 4   Male                      997 non-null    object \n",
      " 5   Timestamp                 1000 non-null   object \n",
      " 6   Clicked on Ad             1000 non-null   object \n",
      " 7   city                      1000 non-null   object \n",
      " 8   province                  1000 non-null   object \n",
      " 9   category                  1000 non-null   object \n",
      "dtypes: float64(3), int64(1), object(6)\n",
      "memory usage: 85.9+ KB\n"
     ]
    }
   ],
   "source": [
    "df.info()"
   ]
  },
  {
   "cell_type": "code",
   "execution_count": 5,
   "id": "b3ed3238-7af4-485e-b706-00afb58287c0",
   "metadata": {},
   "outputs": [],
   "source": [
    "df['Timestamp'] = pd.to_datetime(df['Timestamp'])"
   ]
  },
  {
   "cell_type": "markdown",
   "id": "d1252560-3f0f-40e2-82e0-04ec4f96c26b",
   "metadata": {},
   "source": [
    "# EDA : Customer Type and Behaviour Analysis on Advertisement"
   ]
  },
  {
   "cell_type": "markdown",
   "id": "867b70ec-6fb8-44cc-b891-c93c2c0055fa",
   "metadata": {
    "tags": []
   },
   "source": [
    "## Get the data type of each row in the dataset"
   ]
  },
  {
   "cell_type": "code",
   "execution_count": 6,
   "id": "0bb307f0-58bf-4b33-bc4b-ce25dfd9158c",
   "metadata": {},
   "outputs": [],
   "source": [
    "cat = []\n",
    "num = []\n",
    "dat = []\n",
    "\n",
    "numeric = ['int64', 'int32', 'float64']\n",
    "\n",
    "for i in df.columns:\n",
    "    data_type = str(df[i].dtype)\n",
    "    if data_type == 'object' :\n",
    "        cat.append(i)\n",
    "    elif data_type in numeric :\n",
    "        num.append(i)\n",
    "    else:\n",
    "        dat.append(i)"
   ]
  },
  {
   "cell_type": "code",
   "execution_count": 7,
   "id": "77813501-0283-4c0e-9eb2-92efa545e866",
   "metadata": {},
   "outputs": [
    {
     "data": {
      "text/plain": [
       "['Male', 'Clicked on Ad', 'city', 'province', 'category']"
      ]
     },
     "execution_count": 7,
     "metadata": {},
     "output_type": "execute_result"
    }
   ],
   "source": [
    "cat"
   ]
  },
  {
   "cell_type": "markdown",
   "id": "e91b95e1-a150-4bc4-97e4-19581018788b",
   "metadata": {},
   "source": [
    "### See the distribution of data"
   ]
  },
  {
   "cell_type": "code",
   "execution_count": 8,
   "id": "aa84ccae-9427-4f37-a670-2c5b62d413c0",
   "metadata": {},
   "outputs": [
    {
     "data": {
      "image/png": "[encoded data removed]",
      "text/plain": [
       "<Figure size 576x432 with 4 Axes>"
      ]
     },
     "metadata": {
      "needs_background": "light"
     },
     "output_type": "display_data"
    }
   ],
   "source": [
    "plt.figure(figsize=(8,6))\n",
    "\n",
    "for i, column in enumerate (df[num].columns, 1):\n",
    "    plt.subplot(2,2,i)\n",
    "    sns.boxplot(data=df[num], x=df[column])\n",
    "    plt.title(str(column) + ' skewness : ' + str(np.round(df[column].skew(), 2)))\n",
    "    plt.tight_layout()"
   ]
  },
  {
   "cell_type": "markdown",
   "id": "5face515-37e9-43b1-859d-070fe21be718",
   "metadata": {},
   "source": [
    "From the picture above, we know that area income is an outlier, but it is logical because some areas have a low income than other places.\n",
    "\n",
    "and only daily internet usage has a nearly to be normal distribution, other columns are skewed."
   ]
  },
  {
   "cell_type": "code",
   "execution_count": 9,
   "id": "96e874be-b78b-4500-a67e-6b1f80d0369e",
   "metadata": {},
   "outputs": [
    {
     "data": {
      "text/html": [
       "<div>\n",
       "<style scoped>\n",
       "    .dataframe tbody tr th:only-of-type {\n",
       "        vertical-align: middle;\n",
       "    }\n",
       "\n",
       "    .dataframe tbody tr th {\n",
       "        vertical-align: top;\n",
       "    }\n",
       "\n",
       "    .dataframe thead th {\n",
       "        text-align: right;\n",
       "    }\n",
       "</style>\n",
       "<table border=\"1\" class=\"dataframe\">\n",
       "  <thead>\n",
       "    <tr style=\"text-align: right;\">\n",
       "      <th></th>\n",
       "      <th>count</th>\n",
       "      <th>unique</th>\n",
       "      <th>top</th>\n",
       "      <th>freq</th>\n",
       "    </tr>\n",
       "  </thead>\n",
       "  <tbody>\n",
       "    <tr>\n",
       "      <th>Male</th>\n",
       "      <td>997</td>\n",
       "      <td>2</td>\n",
       "      <td>Perempuan</td>\n",
       "      <td>518</td>\n",
       "    </tr>\n",
       "    <tr>\n",
       "      <th>Clicked on Ad</th>\n",
       "      <td>1000</td>\n",
       "      <td>2</td>\n",
       "      <td>No</td>\n",
       "      <td>500</td>\n",
       "    </tr>\n",
       "    <tr>\n",
       "      <th>city</th>\n",
       "      <td>1000</td>\n",
       "      <td>30</td>\n",
       "      <td>Surabaya</td>\n",
       "      <td>64</td>\n",
       "    </tr>\n",
       "    <tr>\n",
       "      <th>province</th>\n",
       "      <td>1000</td>\n",
       "      <td>16</td>\n",
       "      <td>Daerah Khusus Ibukota Jakarta</td>\n",
       "      <td>253</td>\n",
       "    </tr>\n",
       "    <tr>\n",
       "      <th>category</th>\n",
       "      <td>1000</td>\n",
       "      <td>10</td>\n",
       "      <td>Otomotif</td>\n",
       "      <td>112</td>\n",
       "    </tr>\n",
       "  </tbody>\n",
       "</table>\n",
       "</div>"
      ],
      "text/plain": [
       "              count unique                            top freq\n",
       "Male            997      2                      Perempuan  518\n",
       "Clicked on Ad  1000      2                             No  500\n",
       "city           1000     30                       Surabaya   64\n",
       "province       1000     16  Daerah Khusus Ibukota Jakarta  253\n",
       "category       1000     10                       Otomotif  112"
      ]
     },
     "execution_count": 9,
     "metadata": {},
     "output_type": "execute_result"
    }
   ],
   "source": [
    "df[cat].describe().transpose()"
   ]
  },
  {
   "cell_type": "markdown",
   "id": "c6276685-3830-485a-b401-8d3a52dae6e0",
   "metadata": {},
   "source": [
    "## Univariate Analysis"
   ]
  },
  {
   "cell_type": "code",
   "execution_count": 10,
   "id": "60d82e2c-3d55-4760-a532-6d4e4f72aaab",
   "metadata": {},
   "outputs": [
    {
     "data": {
      "image/png": "[encoded data removed]",
      "text/plain": [
       "<Figure size 576x432 with 4 Axes>"
      ]
     },
     "metadata": {
      "needs_background": "light"
     },
     "output_type": "display_data"
    }
   ],
   "source": [
    "plt.figure(figsize=(8,6))\n",
    "\n",
    "for i, column in enumerate (df[num].columns, 1):\n",
    "    plt.subplot(2,2,i)\n",
    "    sns.kdeplot(data=df[num], x=df[column], hue=df['Clicked on Ad'])\n",
    "    plt.tight_layout()"
   ]
  },
  {
   "cell_type": "markdown",
   "id": "fbd09c32-9eed-4fd5-ab35-d8ecce23a7b0",
   "metadata": {},
   "source": [
    "From the graph, we know that customer tend to click our ad if they have <=60 daily time spent on our site, are >=40 years old. have an income <=3 * 10^8 rupiah and have <=170 daily internet usage."
   ]
  },
  {
   "cell_type": "code",
   "execution_count": 11,
   "id": "d715afa4-51f2-4532-be44-568db4fe30c2",
   "metadata": {},
   "outputs": [
    {
     "data": {
      "image/png": "[encoded data removed]",
      "text/plain": [
       "<Figure size 576x432 with 2 Axes>"
      ]
     },
     "metadata": {
      "needs_background": "light"
     },
     "output_type": "display_data"
    }
   ],
   "source": [
    "cat_2 = ['Male', 'category'] \n",
    "\n",
    "plt.figure(figsize=(8,6))\n",
    "\n",
    "for i, column in enumerate (df[cat_2].columns, 1):\n",
    "    plt.subplot(2,1,i)\n",
    "    sns.countplot(data=df[cat_2], x=df[column], hue=df['Clicked on Ad'])\n",
    "    plt.legend(bbox_to_anchor=(1, 1), loc='upper left')\n",
    "    plt.tight_layout()"
   ]
  },
  {
   "cell_type": "markdown",
   "id": "f2cad931-979f-40aa-b4da-1b3bd199df19",
   "metadata": {},
   "source": [
    "From the graph, we know that woman have a percentage above 50% to click on our ads, and customer is more interested with our ads about house, finance, fashion and automotive,this can be said because of the percentage customer click our ads above 50%."
   ]
  },
  {
   "cell_type": "markdown",
   "id": "39ee2898-1e0b-4dc4-a02c-30b47b5c530d",
   "metadata": {},
   "source": [
    "## Bivariate Analysis"
   ]
  },
  {
   "cell_type": "code",
   "execution_count": 12,
   "id": "65d5951b-97af-47cb-9b49-3a7305220e76",
   "metadata": {},
   "outputs": [
    {
     "data": {
      "text/plain": [
       "<Figure size 576x576 with 0 Axes>"
      ]
     },
     "metadata": {},
     "output_type": "display_data"
    },
    {
     "data": {
      "image/png": "[encoded data removed]",
      "text/plain": [
       "<Figure size 615.75x540 with 12 Axes>"
      ]
     },
     "metadata": {
      "needs_background": "light"
     },
     "output_type": "display_data"
    }
   ],
   "source": [
    "num_2 = ['Age', 'Daily Time Spent on Site', 'Daily Internet Usage', 'Clicked on Ad']\n",
    "\n",
    "plt.figure(figsize=(8, 8))\n",
    "sns.pairplot(df[num_2], diag_kind='kde', hue='Clicked on Ad')\n",
    "plt.show()"
   ]
  },
  {
   "cell_type": "markdown",
   "id": "161f7513-e5ae-419f-b33c-dd727efb1a85",
   "metadata": {},
   "source": [
    "from the graph, we know :\n",
    "1. The older our customer, have a few daily time spent on site and daily internet usage they tend to click our ads.\n",
    "2. The younger our customer, have a more daily time spent on site and daily internet usage they tend to not click our ads."
   ]
  },
  {
   "cell_type": "markdown",
   "id": "4b891d68-2539-44bc-8534-d037499d9063",
   "metadata": {},
   "source": [
    "## Multivariate Analysis"
   ]
  },
  {
   "cell_type": "code",
   "execution_count": 13,
   "id": "884dd274-06f8-4dcb-9aa4-16e03d28bf4e",
   "metadata": {},
   "outputs": [
    {
     "data": {
      "image/png": "[encoded data removed]",
      "text/plain": [
       "<Figure size 576x432 with 2 Axes>"
      ]
     },
     "metadata": {
      "needs_background": "light"
     },
     "output_type": "display_data"
    }
   ],
   "source": [
    "plt.figure(figsize=(8, 6))\n",
    "sns.heatmap(df.corr(), annot=True, fmt='.2f')\n",
    "plt.show()"
   ]
  },
  {
   "cell_type": "markdown",
   "id": "4445f482-0c6e-4d7b-8e4d-5775cf67e175",
   "metadata": {},
   "source": [
    "From graph, we know that Daily Internet Usage and Daily Time spent on site have a highest correlation between another column, the second highest correlation is Age with Daily Internet Usage and the third is area income with daily internet usage."
   ]
  },
  {
   "cell_type": "code",
   "execution_count": 14,
   "id": "64816e8c-fb50-42f8-9886-dc3164187423",
   "metadata": {},
   "outputs": [],
   "source": [
    "col_1 = []\n",
    "col_2 = []\n",
    "p_value = []\n",
    "\n",
    "for col1 in cat:\n",
    "    for col in cat:\n",
    "        if col1 != col:\n",
    "            # create the contingency table\n",
    "            contingency_table = pd.crosstab(df[col1], df[col])\n",
    "\n",
    "            # calculate the chi-squared test\n",
    "            chi2, p, dof, expected = chi2_contingency(contingency_table)\n",
    "            col_1.append(col1)\n",
    "            col_2.append(col)\n",
    "            p_value.append(p)\n",
    "        else:\n",
    "            continue"
   ]
  },
  {
   "cell_type": "code",
   "execution_count": 15,
   "id": "ff166229-6d4a-416f-8c4e-b67b570a562f",
   "metadata": {},
   "outputs": [],
   "source": [
    "cor = pd.DataFrame({'Column' : col_1, 'Category column' : col_2, 'P_value from chi square' : p_value})"
   ]
  },
  {
   "cell_type": "code",
   "execution_count": 16,
   "id": "0d2987e3-b25b-44d4-96e8-da3a3e649806",
   "metadata": {},
   "outputs": [
    {
     "data": {
      "text/html": [
       "<div>\n",
       "<style scoped>\n",
       "    .dataframe tbody tr th:only-of-type {\n",
       "        vertical-align: middle;\n",
       "    }\n",
       "\n",
       "    .dataframe tbody tr th {\n",
       "        vertical-align: top;\n",
       "    }\n",
       "\n",
       "    .dataframe thead th {\n",
       "        text-align: right;\n",
       "    }\n",
       "</style>\n",
       "<table border=\"1\" class=\"dataframe\">\n",
       "  <thead>\n",
       "    <tr style=\"text-align: right;\">\n",
       "      <th></th>\n",
       "      <th>Column</th>\n",
       "      <th>Category column</th>\n",
       "      <th>P_value from chi square</th>\n",
       "    </tr>\n",
       "  </thead>\n",
       "  <tbody>\n",
       "    <tr>\n",
       "      <th>10</th>\n",
       "      <td>city</td>\n",
       "      <td>province</td>\n",
       "      <td>0.00</td>\n",
       "    </tr>\n",
       "    <tr>\n",
       "      <th>5</th>\n",
       "      <td>Clicked on Ad</td>\n",
       "      <td>city</td>\n",
       "      <td>0.21</td>\n",
       "    </tr>\n",
       "    <tr>\n",
       "      <th>3</th>\n",
       "      <td>Male</td>\n",
       "      <td>category</td>\n",
       "      <td>0.23</td>\n",
       "    </tr>\n",
       "    <tr>\n",
       "      <th>0</th>\n",
       "      <td>Male</td>\n",
       "      <td>Clicked on Ad</td>\n",
       "      <td>0.30</td>\n",
       "    </tr>\n",
       "    <tr>\n",
       "      <th>11</th>\n",
       "      <td>city</td>\n",
       "      <td>category</td>\n",
       "      <td>0.36</td>\n",
       "    </tr>\n",
       "    <tr>\n",
       "      <th>13</th>\n",
       "      <td>province</td>\n",
       "      <td>Clicked on Ad</td>\n",
       "      <td>0.38</td>\n",
       "    </tr>\n",
       "    <tr>\n",
       "      <th>6</th>\n",
       "      <td>Clicked on Ad</td>\n",
       "      <td>province</td>\n",
       "      <td>0.38</td>\n",
       "    </tr>\n",
       "    <tr>\n",
       "      <th>2</th>\n",
       "      <td>Male</td>\n",
       "      <td>province</td>\n",
       "      <td>0.43</td>\n",
       "    </tr>\n",
       "    <tr>\n",
       "      <th>1</th>\n",
       "      <td>Male</td>\n",
       "      <td>city</td>\n",
       "      <td>0.47</td>\n",
       "    </tr>\n",
       "    <tr>\n",
       "      <th>8</th>\n",
       "      <td>city</td>\n",
       "      <td>Male</td>\n",
       "      <td>0.47</td>\n",
       "    </tr>\n",
       "    <tr>\n",
       "      <th>15</th>\n",
       "      <td>province</td>\n",
       "      <td>category</td>\n",
       "      <td>0.61</td>\n",
       "    </tr>\n",
       "    <tr>\n",
       "      <th>7</th>\n",
       "      <td>Clicked on Ad</td>\n",
       "      <td>category</td>\n",
       "      <td>0.70</td>\n",
       "    </tr>\n",
       "    <tr>\n",
       "      <th>17</th>\n",
       "      <td>category</td>\n",
       "      <td>Clicked on Ad</td>\n",
       "      <td>0.70</td>\n",
       "    </tr>\n",
       "  </tbody>\n",
       "</table>\n",
       "</div>"
      ],
      "text/plain": [
       "           Column Category column  P_value from chi square\n",
       "10           city        province                     0.00\n",
       "5   Clicked on Ad            city                     0.21\n",
       "3            Male        category                     0.23\n",
       "0            Male   Clicked on Ad                     0.30\n",
       "11           city        category                     0.36\n",
       "13       province   Clicked on Ad                     0.38\n",
       "6   Clicked on Ad        province                     0.38\n",
       "2            Male        province                     0.43\n",
       "1            Male            city                     0.47\n",
       "8            city            Male                     0.47\n",
       "15       province        category                     0.61\n",
       "7   Clicked on Ad        category                     0.70\n",
       "17       category   Clicked on Ad                     0.70"
      ]
     },
     "execution_count": 16,
     "metadata": {},
     "output_type": "execute_result"
    }
   ],
   "source": [
    "cor2 = cor.drop_duplicates(subset=['P_value from chi square'])\n",
    "cor2.sort_values('P_value from chi square', ascending=True)"
   ]
  },
  {
   "cell_type": "markdown",
   "id": "f6362e84-a347-40ac-b81c-03c803b3b872",
   "metadata": {},
   "source": [
    "From table above, we know that clicked on Ad have a high correlation with city and  Male with category."
   ]
  },
  {
   "cell_type": "markdown",
   "id": "c70984b4-8bd2-416b-b3cd-e09543a20bbb",
   "metadata": {},
   "source": [
    "# Data Cleaning & Prepocessing"
   ]
  },
  {
   "cell_type": "markdown",
   "id": "2acd64aa-c8e3-444a-838d-cbcf28d01067",
   "metadata": {},
   "source": [
    "## Fix Missing Value"
   ]
  },
  {
   "cell_type": "code",
   "execution_count": 17,
   "id": "dbf9b77c-259b-4b8b-bf26-c1384e2c4bce",
   "metadata": {},
   "outputs": [
    {
     "data": {
      "text/html": [
       "<div>\n",
       "<style scoped>\n",
       "    .dataframe tbody tr th:only-of-type {\n",
       "        vertical-align: middle;\n",
       "    }\n",
       "\n",
       "    .dataframe tbody tr th {\n",
       "        vertical-align: top;\n",
       "    }\n",
       "\n",
       "    .dataframe thead th {\n",
       "        text-align: right;\n",
       "    }\n",
       "</style>\n",
       "<table border=\"1\" class=\"dataframe\">\n",
       "  <thead>\n",
       "    <tr style=\"text-align: right;\">\n",
       "      <th></th>\n",
       "      <th>index</th>\n",
       "      <th>Total Null Data</th>\n",
       "      <th>Percentage</th>\n",
       "    </tr>\n",
       "  </thead>\n",
       "  <tbody>\n",
       "    <tr>\n",
       "      <th>0</th>\n",
       "      <td>Daily Time Spent on Site</td>\n",
       "      <td>13</td>\n",
       "      <td>1.30</td>\n",
       "    </tr>\n",
       "    <tr>\n",
       "      <th>2</th>\n",
       "      <td>Area Income</td>\n",
       "      <td>13</td>\n",
       "      <td>1.30</td>\n",
       "    </tr>\n",
       "    <tr>\n",
       "      <th>3</th>\n",
       "      <td>Daily Internet Usage</td>\n",
       "      <td>11</td>\n",
       "      <td>1.10</td>\n",
       "    </tr>\n",
       "    <tr>\n",
       "      <th>4</th>\n",
       "      <td>Male</td>\n",
       "      <td>3</td>\n",
       "      <td>0.30</td>\n",
       "    </tr>\n",
       "  </tbody>\n",
       "</table>\n",
       "</div>"
      ],
      "text/plain": [
       "                      index  Total Null Data  Percentage\n",
       "0  Daily Time Spent on Site               13        1.30\n",
       "2               Area Income               13        1.30\n",
       "3      Daily Internet Usage               11        1.10\n",
       "4                      Male                3        0.30"
      ]
     },
     "execution_count": 17,
     "metadata": {},
     "output_type": "execute_result"
    }
   ],
   "source": [
    "count_nv = pd.DataFrame(df.isnull().sum(), columns=['Total Null Data']).reset_index()\n",
    "count_nv['Percentage'] = ( count_nv['Total Null Data'] / len(df) ) * 100\n",
    "count_nv[count_nv['Percentage'] != 0].sort_values(by='Percentage', ascending=False)"
   ]
  },
  {
   "cell_type": "code",
   "execution_count": 18,
   "id": "220f59e0-9a67-4968-bd82-3d59d47e17db",
   "metadata": {},
   "outputs": [
    {
     "name": "stdout",
     "output_type": "stream",
     "text": [
      "<class 'pandas.core.frame.DataFrame'>\n",
      "Int64Index: 1000 entries, 0 to 999\n",
      "Data columns (total 4 columns):\n",
      " #   Column                    Non-Null Count  Dtype  \n",
      "---  ------                    --------------  -----  \n",
      " 0   Daily Time Spent on Site  987 non-null    float64\n",
      " 1   Area Income               987 non-null    float64\n",
      " 2   Daily Internet Usage      989 non-null    float64\n",
      " 3   Male                      997 non-null    object \n",
      "dtypes: float64(3), object(1)\n",
      "memory usage: 71.4+ KB\n"
     ]
    }
   ],
   "source": [
    "column = count_nv[count_nv['Percentage'] != 0]['index']\n",
    "df[column].info()"
   ]
  },
  {
   "cell_type": "markdown",
   "id": "bf8619ba-45cd-42a0-a161-e25c3517ce55",
   "metadata": {},
   "source": [
    "For numeric column, we will fill null data with median and for object column we fill null data with mode."
   ]
  },
  {
   "cell_type": "code",
   "execution_count": 19,
   "id": "53a21b57-9174-49ae-bfea-33d718edbc4c",
   "metadata": {},
   "outputs": [],
   "source": [
    "for i in column:\n",
    "    data_type = str(df[i].dtype)\n",
    "    if data_type == 'object' :\n",
    "        df[i] = df[i].fillna(df[i].mode()[0])\n",
    "    elif data_type in numeric :\n",
    "        df[i] = df[i].fillna(df[i].median())"
   ]
  },
  {
   "cell_type": "code",
   "execution_count": 20,
   "id": "56c6e522-cf5a-4c9d-b55e-4c1c3f06d436",
   "metadata": {},
   "outputs": [
    {
     "data": {
      "text/plain": [
       "Daily Time Spent on Site    0\n",
       "Age                         0\n",
       "Area Income                 0\n",
       "Daily Internet Usage        0\n",
       "Male                        0\n",
       "Timestamp                   0\n",
       "Clicked on Ad               0\n",
       "city                        0\n",
       "province                    0\n",
       "category                    0\n",
       "dtype: int64"
      ]
     },
     "execution_count": 20,
     "metadata": {},
     "output_type": "execute_result"
    }
   ],
   "source": [
    "df.isnull().sum()"
   ]
  },
  {
   "cell_type": "markdown",
   "id": "4cd90660-9257-4d4b-a461-bb9795ddc8cd",
   "metadata": {},
   "source": [
    "## Check Duplicate Value"
   ]
  },
  {
   "cell_type": "code",
   "execution_count": 21,
   "id": "fd433b19-0f37-44e8-a38f-ccb8f48ff5ce",
   "metadata": {},
   "outputs": [
    {
     "data": {
      "text/plain": [
       "0"
      ]
     },
     "execution_count": 21,
     "metadata": {},
     "output_type": "execute_result"
    }
   ],
   "source": [
    "df.duplicated().sum()"
   ]
  },
  {
   "cell_type": "markdown",
   "id": "44b8e9d2-7d5b-4c7d-a63c-d2ca2b1bbf87",
   "metadata": {},
   "source": [
    "Our Dataset dont have a duplicate rows, so we dont need to delete any column here."
   ]
  },
  {
   "cell_type": "markdown",
   "id": "f7ebbd66-bafe-4e33-b98e-5410a04245f5",
   "metadata": {},
   "source": [
    "## Feature Encoding"
   ]
  },
  {
   "cell_type": "markdown",
   "id": "62c9ebb7-8e21-4e40-9c00-b20b883f6852",
   "metadata": {},
   "source": [
    "### Extract datetime data"
   ]
  },
  {
   "cell_type": "code",
   "execution_count": 22,
   "id": "faa484a6-2d41-4358-b82f-1ffddd7a9c95",
   "metadata": {},
   "outputs": [],
   "source": [
    "df['Year'] = df['Timestamp'].dt.year\n",
    "df['Month'] = df['Timestamp'].dt.month\n",
    "df['Day'] = df['Timestamp'].dt.day\n",
    "df[\"Weekday\"] = df['Timestamp'].dt.dayofweek\n",
    "df[\"is_weekend\"] = np.where(df['Weekday'].isin([5,6]) == True, 1,0)\n",
    "\n",
    "df.drop(columns = 'Timestamp', inplace=True)"
   ]
  },
  {
   "cell_type": "markdown",
   "id": "3fc46ebe-f28b-4eb8-ab27-3c77e5a1d0d6",
   "metadata": {},
   "source": [
    "### Divide category column to 2 depend on their total unique value."
   ]
  },
  {
   "cell_type": "code",
   "execution_count": 23,
   "id": "cb540c74-049b-4303-9250-0558fbcd83f3",
   "metadata": {},
   "outputs": [],
   "source": [
    "cat_1 = []\n",
    "cat_2 = []\n",
    "\n",
    "for i in cat:\n",
    "    unique_value = len(df[i].unique())\n",
    "    if unique_value > 2:\n",
    "        cat_2.append(i)\n",
    "    else:\n",
    "        cat_1.append(i)"
   ]
  },
  {
   "cell_type": "code",
   "execution_count": 24,
   "id": "e749fc32-ac2e-410c-b28f-a76db0b186c8",
   "metadata": {},
   "outputs": [
    {
     "data": {
      "text/plain": [
       "['Male', 'Clicked on Ad']"
      ]
     },
     "execution_count": 24,
     "metadata": {},
     "output_type": "execute_result"
    }
   ],
   "source": [
    "cat_1"
   ]
  },
  {
   "cell_type": "markdown",
   "id": "dda40ad5-5f36-4b18-84d8-732e9a45e727",
   "metadata": {},
   "source": [
    "### Label Encoding in Manual Way"
   ]
  },
  {
   "cell_type": "code",
   "execution_count": 25,
   "id": "fb12e665-7e2b-4878-b585-e6e8e66badb4",
   "metadata": {},
   "outputs": [],
   "source": [
    "df['Male'] = np.where(df['Male'] == 'Laki-Laki', 1, 0)\n",
    "df['Clicked on Ad'] = df['Clicked on Ad'].apply(lambda x: 0 if x == 'No' else 1)"
   ]
  },
  {
   "cell_type": "markdown",
   "id": "b961b93c-597d-4c44-b13c-4b47915ae272",
   "metadata": {},
   "source": [
    "### One-Hot Encoding"
   ]
  },
  {
   "cell_type": "code",
   "execution_count": 26,
   "id": "281c0ba7-0cc1-425c-a24c-70a88840ffb8",
   "metadata": {},
   "outputs": [],
   "source": [
    "for i in cat_2:\n",
    "    onehots = pd.get_dummies(df[i], prefix=i)\n",
    "    df = df.join(onehots)\n",
    "    \n",
    "df.drop(columns = cat_2, inplace=True)"
   ]
  },
  {
   "cell_type": "markdown",
   "id": "63d4da35-62a0-43d1-91e5-fb6f3651e571",
   "metadata": {},
   "source": [
    "### Scalling Numeric column with standard scaler in manual way"
   ]
  },
  {
   "cell_type": "markdown",
   "id": "a3f52b81-796f-4fc2-9444-a919e44715e4",
   "metadata": {},
   "source": [
    "Usually you can use standarscaler function with this step :\n",
    "1. Import standardscaler\n",
    "\n",
    "from sklearn.preprocessing import StandardScaler\n",
    " \n",
    "2. Do the standardize\n",
    "\n",
    "df[col_names] = StandardScaler().fit_transform(df[col_names].values)\n",
    "\n",
    "but i choose to use manual way to tell reader the formula of standard scaler."
   ]
  },
  {
   "cell_type": "code",
   "execution_count": 27,
   "id": "e5a5bf83-40cc-419a-a1ff-d9217dbd047d",
   "metadata": {},
   "outputs": [],
   "source": [
    "df_non_normalization = df.copy()"
   ]
  },
  {
   "cell_type": "code",
   "execution_count": 28,
   "id": "739281be-c8dd-44d7-9f8d-1b8636dcf536",
   "metadata": {},
   "outputs": [],
   "source": [
    "num.extend(['Year', 'Month', 'Day', 'Weekday'])"
   ]
  },
  {
   "cell_type": "code",
   "execution_count": 29,
   "id": "834d2255-49fe-40f3-bf25-5bc1a1e2f43d",
   "metadata": {},
   "outputs": [
    {
     "data": {
      "text/html": [
       "<div>\n",
       "<style scoped>\n",
       "    .dataframe tbody tr th:only-of-type {\n",
       "        vertical-align: middle;\n",
       "    }\n",
       "\n",
       "    .dataframe tbody tr th {\n",
       "        vertical-align: top;\n",
       "    }\n",
       "\n",
       "    .dataframe thead th {\n",
       "        text-align: right;\n",
       "    }\n",
       "</style>\n",
       "<table border=\"1\" class=\"dataframe\">\n",
       "  <thead>\n",
       "    <tr style=\"text-align: right;\">\n",
       "      <th></th>\n",
       "      <th>Daily Time Spent on Site</th>\n",
       "      <th>Age</th>\n",
       "      <th>Area Income</th>\n",
       "      <th>Daily Internet Usage</th>\n",
       "      <th>Year</th>\n",
       "      <th>Month</th>\n",
       "      <th>Day</th>\n",
       "      <th>Weekday</th>\n",
       "    </tr>\n",
       "  </thead>\n",
       "  <tbody>\n",
       "    <tr>\n",
       "      <th>0</th>\n",
       "      <td>68.95</td>\n",
       "      <td>35</td>\n",
       "      <td>432837300.00</td>\n",
       "      <td>256.09</td>\n",
       "      <td>2016</td>\n",
       "      <td>3</td>\n",
       "      <td>27</td>\n",
       "      <td>6</td>\n",
       "    </tr>\n",
       "    <tr>\n",
       "      <th>1</th>\n",
       "      <td>80.23</td>\n",
       "      <td>31</td>\n",
       "      <td>479092950.00</td>\n",
       "      <td>193.77</td>\n",
       "      <td>2016</td>\n",
       "      <td>4</td>\n",
       "      <td>4</td>\n",
       "      <td>0</td>\n",
       "    </tr>\n",
       "    <tr>\n",
       "      <th>2</th>\n",
       "      <td>69.47</td>\n",
       "      <td>26</td>\n",
       "      <td>418501580.00</td>\n",
       "      <td>236.50</td>\n",
       "      <td>2016</td>\n",
       "      <td>3</td>\n",
       "      <td>13</td>\n",
       "      <td>6</td>\n",
       "    </tr>\n",
       "    <tr>\n",
       "      <th>3</th>\n",
       "      <td>74.15</td>\n",
       "      <td>29</td>\n",
       "      <td>383643260.00</td>\n",
       "      <td>245.89</td>\n",
       "      <td>2016</td>\n",
       "      <td>1</td>\n",
       "      <td>10</td>\n",
       "      <td>6</td>\n",
       "    </tr>\n",
       "    <tr>\n",
       "      <th>4</th>\n",
       "      <td>68.37</td>\n",
       "      <td>35</td>\n",
       "      <td>517229930.00</td>\n",
       "      <td>225.58</td>\n",
       "      <td>2016</td>\n",
       "      <td>6</td>\n",
       "      <td>3</td>\n",
       "      <td>4</td>\n",
       "    </tr>\n",
       "  </tbody>\n",
       "</table>\n",
       "</div>"
      ],
      "text/plain": [
       "   Daily Time Spent on Site  Age  Area Income  Daily Internet Usage  Year  \\\n",
       "0                     68.95   35 432837300.00                256.09  2016   \n",
       "1                     80.23   31 479092950.00                193.77  2016   \n",
       "2                     69.47   26 418501580.00                236.50  2016   \n",
       "3                     74.15   29 383643260.00                245.89  2016   \n",
       "4                     68.37   35 517229930.00                225.58  2016   \n",
       "\n",
       "   Month  Day  Weekday  \n",
       "0      3   27        6  \n",
       "1      4    4        0  \n",
       "2      3   13        6  \n",
       "3      1   10        6  \n",
       "4      6    3        4  "
      ]
     },
     "execution_count": 29,
     "metadata": {},
     "output_type": "execute_result"
    }
   ],
   "source": [
    "df[num].head()"
   ]
  },
  {
   "cell_type": "code",
   "execution_count": 30,
   "id": "2e0a31b3-2bb3-47e2-97a8-19d906aec46a",
   "metadata": {},
   "outputs": [
    {
     "data": {
      "text/html": [
       "<div>\n",
       "<style scoped>\n",
       "    .dataframe tbody tr th:only-of-type {\n",
       "        vertical-align: middle;\n",
       "    }\n",
       "\n",
       "    .dataframe tbody tr th {\n",
       "        vertical-align: top;\n",
       "    }\n",
       "\n",
       "    .dataframe thead th {\n",
       "        text-align: right;\n",
       "    }\n",
       "</style>\n",
       "<table border=\"1\" class=\"dataframe\">\n",
       "  <thead>\n",
       "    <tr style=\"text-align: right;\">\n",
       "      <th></th>\n",
       "      <th>Daily Time Spent on Site</th>\n",
       "      <th>Age</th>\n",
       "      <th>Area Income</th>\n",
       "      <th>Daily Internet Usage</th>\n",
       "      <th>Year</th>\n",
       "      <th>Month</th>\n",
       "      <th>Day</th>\n",
       "      <th>Weekday</th>\n",
       "    </tr>\n",
       "  </thead>\n",
       "  <tbody>\n",
       "    <tr>\n",
       "      <th>0</th>\n",
       "      <td>0.25</td>\n",
       "      <td>-0.11</td>\n",
       "      <td>0.51</td>\n",
       "      <td>1.75</td>\n",
       "      <td>NaN</td>\n",
       "      <td>-0.42</td>\n",
       "      <td>1.32</td>\n",
       "      <td>1.47</td>\n",
       "    </tr>\n",
       "    <tr>\n",
       "      <th>1</th>\n",
       "      <td>0.97</td>\n",
       "      <td>-0.57</td>\n",
       "      <td>1.01</td>\n",
       "      <td>0.32</td>\n",
       "      <td>NaN</td>\n",
       "      <td>0.09</td>\n",
       "      <td>-1.31</td>\n",
       "      <td>-1.53</td>\n",
       "    </tr>\n",
       "    <tr>\n",
       "      <th>2</th>\n",
       "      <td>0.29</td>\n",
       "      <td>-1.14</td>\n",
       "      <td>0.36</td>\n",
       "      <td>1.30</td>\n",
       "      <td>NaN</td>\n",
       "      <td>-0.42</td>\n",
       "      <td>-0.28</td>\n",
       "      <td>1.47</td>\n",
       "    </tr>\n",
       "    <tr>\n",
       "      <th>3</th>\n",
       "      <td>0.58</td>\n",
       "      <td>-0.80</td>\n",
       "      <td>-0.02</td>\n",
       "      <td>1.51</td>\n",
       "      <td>NaN</td>\n",
       "      <td>-1.46</td>\n",
       "      <td>-0.63</td>\n",
       "      <td>1.47</td>\n",
       "    </tr>\n",
       "    <tr>\n",
       "      <th>4</th>\n",
       "      <td>0.22</td>\n",
       "      <td>-0.11</td>\n",
       "      <td>1.41</td>\n",
       "      <td>1.05</td>\n",
       "      <td>NaN</td>\n",
       "      <td>1.13</td>\n",
       "      <td>-1.43</td>\n",
       "      <td>0.47</td>\n",
       "    </tr>\n",
       "  </tbody>\n",
       "</table>\n",
       "</div>"
      ],
      "text/plain": [
       "   Daily Time Spent on Site   Age  Area Income  Daily Internet Usage  Year  \\\n",
       "0                      0.25 -0.11         0.51                  1.75   NaN   \n",
       "1                      0.97 -0.57         1.01                  0.32   NaN   \n",
       "2                      0.29 -1.14         0.36                  1.30   NaN   \n",
       "3                      0.58 -0.80        -0.02                  1.51   NaN   \n",
       "4                      0.22 -0.11         1.41                  1.05   NaN   \n",
       "\n",
       "   Month   Day  Weekday  \n",
       "0  -0.42  1.32     1.47  \n",
       "1   0.09 -1.31    -1.53  \n",
       "2  -0.42 -0.28     1.47  \n",
       "3  -1.46 -0.63     1.47  \n",
       "4   1.13 -1.43     0.47  "
      ]
     },
     "execution_count": 30,
     "metadata": {},
     "output_type": "execute_result"
    }
   ],
   "source": [
    "# Normalisasi fitur numerik\n",
    "num_mean = df[num].mean()\n",
    "num_std  = df[num].std()\n",
    "\n",
    "df[num] = (df[num] - num_mean) / num_std\n",
    "df[num].head()"
   ]
  },
  {
   "cell_type": "code",
   "execution_count": 31,
   "id": "1c6789d2-cd51-49e1-8d39-a0c1c5650722",
   "metadata": {},
   "outputs": [],
   "source": [
    "df.Year = df.Year.fillna(1)"
   ]
  },
  {
   "cell_type": "markdown",
   "id": "9d6cf7cc-c8ed-4c95-be20-657fd928e848",
   "metadata": {},
   "source": [
    "## Split data to feature and Target"
   ]
  },
  {
   "cell_type": "code",
   "execution_count": 32,
   "id": "34e4f446-8512-480e-a830-e14c734ab75b",
   "metadata": {},
   "outputs": [],
   "source": [
    "feature = df.drop(columns = 'Clicked on Ad')\n",
    "target = df['Clicked on Ad']"
   ]
  },
  {
   "cell_type": "code",
   "execution_count": 33,
   "id": "6b4ebd45-04d9-412c-b966-de1c674ba887",
   "metadata": {},
   "outputs": [
    {
     "data": {
      "text/plain": [
       "0    500\n",
       "1    500\n",
       "Name: Clicked on Ad, dtype: int64"
      ]
     },
     "execution_count": 33,
     "metadata": {},
     "output_type": "execute_result"
    }
   ],
   "source": [
    "target.value_counts()"
   ]
  },
  {
   "cell_type": "markdown",
   "id": "50972603-39a7-43d9-9b5d-482ca7eae827",
   "metadata": {},
   "source": [
    "Because target have balanced amount, we dont need to oversampling the data."
   ]
  },
  {
   "cell_type": "code",
   "execution_count": 34,
   "id": "86dbcad8-4e76-4f53-aadd-868f20ace2c8",
   "metadata": {},
   "outputs": [],
   "source": [
    "feature_2 = df_non_normalization.drop(columns = 'Clicked on Ad')\n",
    "target_2  = df_non_normalization['Clicked on Ad']"
   ]
  },
  {
   "cell_type": "markdown",
   "id": "7aa7f6bf-c604-4730-9799-b5ed2a71548f",
   "metadata": {},
   "source": [
    "# Modelling"
   ]
  },
  {
   "cell_type": "markdown",
   "id": "867bec57-8221-4bba-a604-aec7a1e2472d",
   "metadata": {},
   "source": [
    "For this modelling, we will do some experiment, there are :\n",
    "\n",
    "    1. First model will be trained by data that numeric columns dont do a scaling\n",
    "    2. Second model will be trained by data that has passed all data preprocessing\n",
    "    \n",
    "And in this case, I will try library called Lazypredict to make a model, and another will be i try are LightGBM, RandomForest and XGBoost.\n",
    "\n",
    "for install lazypredict library and another model, u can run my requirement at my github."
   ]
  },
  {
   "cell_type": "markdown",
   "id": "62ecbc49-1fbd-4b65-a964-de46696ea46a",
   "metadata": {},
   "source": [
    "## Experiment 1"
   ]
  },
  {
   "cell_type": "code",
   "execution_count": 35,
   "id": "58ed32d4-6af7-49f8-8507-13386aa74c1e",
   "metadata": {},
   "outputs": [],
   "source": [
    "x_train1, x_test1, y_train1, y_test1 = train_test_split(feature_2, target_2, test_size = 0.2, random_state=1)"
   ]
  },
  {
   "cell_type": "code",
   "execution_count": 36,
   "id": "e015eb90-eb1a-4e63-8615-b99b36a96f25",
   "metadata": {},
   "outputs": [],
   "source": [
    "clf = LazyClassifier(verbose=0,ignore_warnings=True, custom_metric=None)"
   ]
  },
  {
   "cell_type": "code",
   "execution_count": 37,
   "id": "16c7ab34-4ad3-4e4a-816d-694e34b03925",
   "metadata": {},
   "outputs": [
    {
     "name": "stderr",
     "output_type": "stream",
     "text": [
      "100%|██████████████████████████████████████████████████████████████████████████████████| 29/29 [00:01<00:00, 19.07it/s]\n"
     ]
    }
   ],
   "source": [
    "models,predictions = clf.fit(x_train1, x_test1, y_train1, y_test1)"
   ]
  },
  {
   "cell_type": "code",
   "execution_count": 38,
   "id": "e5a30bc0-1082-406a-9377-f9cbf787b8ec",
   "metadata": {},
   "outputs": [
    {
     "data": {
      "text/html": [
       "<div>\n",
       "<style scoped>\n",
       "    .dataframe tbody tr th:only-of-type {\n",
       "        vertical-align: middle;\n",
       "    }\n",
       "\n",
       "    .dataframe tbody tr th {\n",
       "        vertical-align: top;\n",
       "    }\n",
       "\n",
       "    .dataframe thead th {\n",
       "        text-align: right;\n",
       "    }\n",
       "</style>\n",
       "<table border=\"1\" class=\"dataframe\">\n",
       "  <thead>\n",
       "    <tr style=\"text-align: right;\">\n",
       "      <th></th>\n",
       "      <th>Accuracy</th>\n",
       "      <th>Balanced Accuracy</th>\n",
       "      <th>ROC AUC</th>\n",
       "      <th>F1 Score</th>\n",
       "      <th>Time Taken</th>\n",
       "    </tr>\n",
       "    <tr>\n",
       "      <th>Model</th>\n",
       "      <th></th>\n",
       "      <th></th>\n",
       "      <th></th>\n",
       "      <th></th>\n",
       "      <th></th>\n",
       "    </tr>\n",
       "  </thead>\n",
       "  <tbody>\n",
       "    <tr>\n",
       "      <th>XGBClassifier</th>\n",
       "      <td>0.96</td>\n",
       "      <td>0.96</td>\n",
       "      <td>0.96</td>\n",
       "      <td>0.96</td>\n",
       "      <td>0.14</td>\n",
       "    </tr>\n",
       "    <tr>\n",
       "      <th>RandomForestClassifier</th>\n",
       "      <td>0.96</td>\n",
       "      <td>0.96</td>\n",
       "      <td>0.96</td>\n",
       "      <td>0.96</td>\n",
       "      <td>0.17</td>\n",
       "    </tr>\n",
       "    <tr>\n",
       "      <th>LGBMClassifier</th>\n",
       "      <td>0.95</td>\n",
       "      <td>0.95</td>\n",
       "      <td>0.95</td>\n",
       "      <td>0.95</td>\n",
       "      <td>0.17</td>\n",
       "    </tr>\n",
       "    <tr>\n",
       "      <th>BaggingClassifier</th>\n",
       "      <td>0.95</td>\n",
       "      <td>0.95</td>\n",
       "      <td>0.95</td>\n",
       "      <td>0.95</td>\n",
       "      <td>0.04</td>\n",
       "    </tr>\n",
       "    <tr>\n",
       "      <th>LogisticRegression</th>\n",
       "      <td>0.94</td>\n",
       "      <td>0.94</td>\n",
       "      <td>0.94</td>\n",
       "      <td>0.94</td>\n",
       "      <td>0.02</td>\n",
       "    </tr>\n",
       "    <tr>\n",
       "      <th>AdaBoostClassifier</th>\n",
       "      <td>0.94</td>\n",
       "      <td>0.94</td>\n",
       "      <td>0.94</td>\n",
       "      <td>0.94</td>\n",
       "      <td>0.12</td>\n",
       "    </tr>\n",
       "    <tr>\n",
       "      <th>LinearSVC</th>\n",
       "      <td>0.94</td>\n",
       "      <td>0.94</td>\n",
       "      <td>0.94</td>\n",
       "      <td>0.94</td>\n",
       "      <td>0.02</td>\n",
       "    </tr>\n",
       "    <tr>\n",
       "      <th>ExtraTreesClassifier</th>\n",
       "      <td>0.94</td>\n",
       "      <td>0.94</td>\n",
       "      <td>0.94</td>\n",
       "      <td>0.94</td>\n",
       "      <td>0.18</td>\n",
       "    </tr>\n",
       "    <tr>\n",
       "      <th>CalibratedClassifierCV</th>\n",
       "      <td>0.94</td>\n",
       "      <td>0.94</td>\n",
       "      <td>0.94</td>\n",
       "      <td>0.94</td>\n",
       "      <td>0.08</td>\n",
       "    </tr>\n",
       "    <tr>\n",
       "      <th>DecisionTreeClassifier</th>\n",
       "      <td>0.94</td>\n",
       "      <td>0.93</td>\n",
       "      <td>0.93</td>\n",
       "      <td>0.93</td>\n",
       "      <td>0.01</td>\n",
       "    </tr>\n",
       "    <tr>\n",
       "      <th>PassiveAggressiveClassifier</th>\n",
       "      <td>0.94</td>\n",
       "      <td>0.93</td>\n",
       "      <td>0.93</td>\n",
       "      <td>0.93</td>\n",
       "      <td>0.02</td>\n",
       "    </tr>\n",
       "    <tr>\n",
       "      <th>RidgeClassifierCV</th>\n",
       "      <td>0.94</td>\n",
       "      <td>0.93</td>\n",
       "      <td>0.93</td>\n",
       "      <td>0.93</td>\n",
       "      <td>0.04</td>\n",
       "    </tr>\n",
       "    <tr>\n",
       "      <th>RidgeClassifier</th>\n",
       "      <td>0.94</td>\n",
       "      <td>0.93</td>\n",
       "      <td>0.93</td>\n",
       "      <td>0.93</td>\n",
       "      <td>0.02</td>\n",
       "    </tr>\n",
       "    <tr>\n",
       "      <th>LinearDiscriminantAnalysis</th>\n",
       "      <td>0.94</td>\n",
       "      <td>0.93</td>\n",
       "      <td>0.93</td>\n",
       "      <td>0.93</td>\n",
       "      <td>0.03</td>\n",
       "    </tr>\n",
       "    <tr>\n",
       "      <th>NearestCentroid</th>\n",
       "      <td>0.94</td>\n",
       "      <td>0.93</td>\n",
       "      <td>0.93</td>\n",
       "      <td>0.93</td>\n",
       "      <td>0.01</td>\n",
       "    </tr>\n",
       "    <tr>\n",
       "      <th>Perceptron</th>\n",
       "      <td>0.93</td>\n",
       "      <td>0.93</td>\n",
       "      <td>0.93</td>\n",
       "      <td>0.93</td>\n",
       "      <td>0.02</td>\n",
       "    </tr>\n",
       "    <tr>\n",
       "      <th>SVC</th>\n",
       "      <td>0.93</td>\n",
       "      <td>0.92</td>\n",
       "      <td>0.92</td>\n",
       "      <td>0.92</td>\n",
       "      <td>0.03</td>\n",
       "    </tr>\n",
       "    <tr>\n",
       "      <th>SGDClassifier</th>\n",
       "      <td>0.92</td>\n",
       "      <td>0.92</td>\n",
       "      <td>0.92</td>\n",
       "      <td>0.92</td>\n",
       "      <td>0.02</td>\n",
       "    </tr>\n",
       "    <tr>\n",
       "      <th>NuSVC</th>\n",
       "      <td>0.92</td>\n",
       "      <td>0.92</td>\n",
       "      <td>0.92</td>\n",
       "      <td>0.92</td>\n",
       "      <td>0.05</td>\n",
       "    </tr>\n",
       "    <tr>\n",
       "      <th>BernoulliNB</th>\n",
       "      <td>0.91</td>\n",
       "      <td>0.90</td>\n",
       "      <td>0.90</td>\n",
       "      <td>0.90</td>\n",
       "      <td>0.01</td>\n",
       "    </tr>\n",
       "    <tr>\n",
       "      <th>ExtraTreeClassifier</th>\n",
       "      <td>0.83</td>\n",
       "      <td>0.83</td>\n",
       "      <td>0.83</td>\n",
       "      <td>0.83</td>\n",
       "      <td>0.02</td>\n",
       "    </tr>\n",
       "    <tr>\n",
       "      <th>GaussianNB</th>\n",
       "      <td>0.79</td>\n",
       "      <td>0.79</td>\n",
       "      <td>0.79</td>\n",
       "      <td>0.79</td>\n",
       "      <td>0.01</td>\n",
       "    </tr>\n",
       "    <tr>\n",
       "      <th>KNeighborsClassifier</th>\n",
       "      <td>0.71</td>\n",
       "      <td>0.71</td>\n",
       "      <td>0.71</td>\n",
       "      <td>0.71</td>\n",
       "      <td>0.03</td>\n",
       "    </tr>\n",
       "    <tr>\n",
       "      <th>LabelSpreading</th>\n",
       "      <td>0.70</td>\n",
       "      <td>0.70</td>\n",
       "      <td>0.70</td>\n",
       "      <td>0.70</td>\n",
       "      <td>0.08</td>\n",
       "    </tr>\n",
       "    <tr>\n",
       "      <th>LabelPropagation</th>\n",
       "      <td>0.70</td>\n",
       "      <td>0.70</td>\n",
       "      <td>0.70</td>\n",
       "      <td>0.70</td>\n",
       "      <td>0.08</td>\n",
       "    </tr>\n",
       "    <tr>\n",
       "      <th>DummyClassifier</th>\n",
       "      <td>0.48</td>\n",
       "      <td>0.50</td>\n",
       "      <td>0.50</td>\n",
       "      <td>0.32</td>\n",
       "      <td>0.01</td>\n",
       "    </tr>\n",
       "    <tr>\n",
       "      <th>QuadraticDiscriminantAnalysis</th>\n",
       "      <td>0.48</td>\n",
       "      <td>0.50</td>\n",
       "      <td>0.50</td>\n",
       "      <td>0.33</td>\n",
       "      <td>0.05</td>\n",
       "    </tr>\n",
       "  </tbody>\n",
       "</table>\n",
       "</div>"
      ],
      "text/plain": [
       "                               Accuracy  Balanced Accuracy  ROC AUC  F1 Score  \\\n",
       "Model                                                                           \n",
       "XGBClassifier                      0.96               0.96     0.96      0.96   \n",
       "RandomForestClassifier             0.96               0.96     0.96      0.96   \n",
       "LGBMClassifier                     0.95               0.95     0.95      0.95   \n",
       "BaggingClassifier                  0.95               0.95     0.95      0.95   \n",
       "LogisticRegression                 0.94               0.94     0.94      0.94   \n",
       "AdaBoostClassifier                 0.94               0.94     0.94      0.94   \n",
       "LinearSVC                          0.94               0.94     0.94      0.94   \n",
       "ExtraTreesClassifier               0.94               0.94     0.94      0.94   \n",
       "CalibratedClassifierCV             0.94               0.94     0.94      0.94   \n",
       "DecisionTreeClassifier             0.94               0.93     0.93      0.93   \n",
       "PassiveAggressiveClassifier        0.94               0.93     0.93      0.93   \n",
       "RidgeClassifierCV                  0.94               0.93     0.93      0.93   \n",
       "RidgeClassifier                    0.94               0.93     0.93      0.93   \n",
       "LinearDiscriminantAnalysis         0.94               0.93     0.93      0.93   \n",
       "NearestCentroid                    0.94               0.93     0.93      0.93   \n",
       "Perceptron                         0.93               0.93     0.93      0.93   \n",
       "SVC                                0.93               0.92     0.92      0.92   \n",
       "SGDClassifier                      0.92               0.92     0.92      0.92   \n",
       "NuSVC                              0.92               0.92     0.92      0.92   \n",
       "BernoulliNB                        0.91               0.90     0.90      0.90   \n",
       "ExtraTreeClassifier                0.83               0.83     0.83      0.83   \n",
       "GaussianNB                         0.79               0.79     0.79      0.79   \n",
       "KNeighborsClassifier               0.71               0.71     0.71      0.71   \n",
       "LabelSpreading                     0.70               0.70     0.70      0.70   \n",
       "LabelPropagation                   0.70               0.70     0.70      0.70   \n",
       "DummyClassifier                    0.48               0.50     0.50      0.32   \n",
       "QuadraticDiscriminantAnalysis      0.48               0.50     0.50      0.33   \n",
       "\n",
       "                               Time Taken  \n",
       "Model                                      \n",
       "XGBClassifier                        0.14  \n",
       "RandomForestClassifier               0.17  \n",
       "LGBMClassifier                       0.17  \n",
       "BaggingClassifier                    0.04  \n",
       "LogisticRegression                   0.02  \n",
       "AdaBoostClassifier                   0.12  \n",
       "LinearSVC                            0.02  \n",
       "ExtraTreesClassifier                 0.18  \n",
       "CalibratedClassifierCV               0.08  \n",
       "DecisionTreeClassifier               0.01  \n",
       "PassiveAggressiveClassifier          0.02  \n",
       "RidgeClassifierCV                    0.04  \n",
       "RidgeClassifier                      0.02  \n",
       "LinearDiscriminantAnalysis           0.03  \n",
       "NearestCentroid                      0.01  \n",
       "Perceptron                           0.02  \n",
       "SVC                                  0.03  \n",
       "SGDClassifier                        0.02  \n",
       "NuSVC                                0.05  \n",
       "BernoulliNB                          0.01  \n",
       "ExtraTreeClassifier                  0.02  \n",
       "GaussianNB                           0.01  \n",
       "KNeighborsClassifier                 0.03  \n",
       "LabelSpreading                       0.08  \n",
       "LabelPropagation                     0.08  \n",
       "DummyClassifier                      0.01  \n",
       "QuadraticDiscriminantAnalysis        0.05  "
      ]
     },
     "execution_count": 38,
     "metadata": {},
     "output_type": "execute_result"
    }
   ],
   "source": [
    "model_dictionary = clf.provide_models(x_train1,x_test1,y_train1,y_test1)\n",
    "models"
   ]
  },
  {
   "cell_type": "markdown",
   "id": "e06e464a-d2a8-4480-8ef9-1360fb2530f0",
   "metadata": {},
   "source": [
    "## Experiment 2"
   ]
  },
  {
   "cell_type": "code",
   "execution_count": 39,
   "id": "5e7bb078-9a19-4c31-86b8-7b919f1f36c3",
   "metadata": {},
   "outputs": [],
   "source": [
    "x_train2, x_test2, y_train2, y_test2 = train_test_split(feature, target, test_size = 0.2, random_state=1)"
   ]
  },
  {
   "cell_type": "code",
   "execution_count": 40,
   "id": "b03511a7-837c-4316-a36d-a29ca3c11a9e",
   "metadata": {},
   "outputs": [],
   "source": [
    "clf = LazyClassifier(verbose=0,ignore_warnings=True, custom_metric=None)"
   ]
  },
  {
   "cell_type": "code",
   "execution_count": 41,
   "id": "cfe44da0-7f65-406d-a23e-7d63e773ed6d",
   "metadata": {},
   "outputs": [
    {
     "name": "stderr",
     "output_type": "stream",
     "text": [
      "100%|██████████████████████████████████████████████████████████████████████████████████| 29/29 [00:01<00:00, 20.10it/s]\n"
     ]
    }
   ],
   "source": [
    "models_2 ,predictions = clf.fit(x_train2, x_test2, y_train2, y_test2)"
   ]
  },
  {
   "cell_type": "code",
   "execution_count": 42,
   "id": "96b870c5-71a4-4a05-af5c-ce086b60375b",
   "metadata": {},
   "outputs": [
    {
     "data": {
      "text/html": [
       "<div>\n",
       "<style scoped>\n",
       "    .dataframe tbody tr th:only-of-type {\n",
       "        vertical-align: middle;\n",
       "    }\n",
       "\n",
       "    .dataframe tbody tr th {\n",
       "        vertical-align: top;\n",
       "    }\n",
       "\n",
       "    .dataframe thead th {\n",
       "        text-align: right;\n",
       "    }\n",
       "</style>\n",
       "<table border=\"1\" class=\"dataframe\">\n",
       "  <thead>\n",
       "    <tr style=\"text-align: right;\">\n",
       "      <th></th>\n",
       "      <th>Accuracy</th>\n",
       "      <th>Balanced Accuracy</th>\n",
       "      <th>ROC AUC</th>\n",
       "      <th>F1 Score</th>\n",
       "      <th>Time Taken</th>\n",
       "    </tr>\n",
       "    <tr>\n",
       "      <th>Model</th>\n",
       "      <th></th>\n",
       "      <th></th>\n",
       "      <th></th>\n",
       "      <th></th>\n",
       "      <th></th>\n",
       "    </tr>\n",
       "  </thead>\n",
       "  <tbody>\n",
       "    <tr>\n",
       "      <th>XGBClassifier</th>\n",
       "      <td>0.96</td>\n",
       "      <td>0.96</td>\n",
       "      <td>0.96</td>\n",
       "      <td>0.96</td>\n",
       "      <td>0.09</td>\n",
       "    </tr>\n",
       "    <tr>\n",
       "      <th>RandomForestClassifier</th>\n",
       "      <td>0.96</td>\n",
       "      <td>0.96</td>\n",
       "      <td>0.96</td>\n",
       "      <td>0.96</td>\n",
       "      <td>0.15</td>\n",
       "    </tr>\n",
       "    <tr>\n",
       "      <th>LGBMClassifier</th>\n",
       "      <td>0.95</td>\n",
       "      <td>0.95</td>\n",
       "      <td>0.95</td>\n",
       "      <td>0.95</td>\n",
       "      <td>0.17</td>\n",
       "    </tr>\n",
       "    <tr>\n",
       "      <th>BaggingClassifier</th>\n",
       "      <td>0.95</td>\n",
       "      <td>0.95</td>\n",
       "      <td>0.95</td>\n",
       "      <td>0.95</td>\n",
       "      <td>0.04</td>\n",
       "    </tr>\n",
       "    <tr>\n",
       "      <th>LogisticRegression</th>\n",
       "      <td>0.94</td>\n",
       "      <td>0.94</td>\n",
       "      <td>0.94</td>\n",
       "      <td>0.94</td>\n",
       "      <td>0.02</td>\n",
       "    </tr>\n",
       "    <tr>\n",
       "      <th>AdaBoostClassifier</th>\n",
       "      <td>0.94</td>\n",
       "      <td>0.94</td>\n",
       "      <td>0.94</td>\n",
       "      <td>0.94</td>\n",
       "      <td>0.23</td>\n",
       "    </tr>\n",
       "    <tr>\n",
       "      <th>LinearSVC</th>\n",
       "      <td>0.94</td>\n",
       "      <td>0.94</td>\n",
       "      <td>0.94</td>\n",
       "      <td>0.94</td>\n",
       "      <td>0.02</td>\n",
       "    </tr>\n",
       "    <tr>\n",
       "      <th>ExtraTreesClassifier</th>\n",
       "      <td>0.94</td>\n",
       "      <td>0.94</td>\n",
       "      <td>0.94</td>\n",
       "      <td>0.94</td>\n",
       "      <td>0.14</td>\n",
       "    </tr>\n",
       "    <tr>\n",
       "      <th>CalibratedClassifierCV</th>\n",
       "      <td>0.94</td>\n",
       "      <td>0.94</td>\n",
       "      <td>0.94</td>\n",
       "      <td>0.94</td>\n",
       "      <td>0.11</td>\n",
       "    </tr>\n",
       "    <tr>\n",
       "      <th>DecisionTreeClassifier</th>\n",
       "      <td>0.94</td>\n",
       "      <td>0.93</td>\n",
       "      <td>0.93</td>\n",
       "      <td>0.93</td>\n",
       "      <td>0.02</td>\n",
       "    </tr>\n",
       "    <tr>\n",
       "      <th>PassiveAggressiveClassifier</th>\n",
       "      <td>0.94</td>\n",
       "      <td>0.93</td>\n",
       "      <td>0.93</td>\n",
       "      <td>0.93</td>\n",
       "      <td>0.01</td>\n",
       "    </tr>\n",
       "    <tr>\n",
       "      <th>RidgeClassifierCV</th>\n",
       "      <td>0.94</td>\n",
       "      <td>0.93</td>\n",
       "      <td>0.93</td>\n",
       "      <td>0.93</td>\n",
       "      <td>0.03</td>\n",
       "    </tr>\n",
       "    <tr>\n",
       "      <th>RidgeClassifier</th>\n",
       "      <td>0.94</td>\n",
       "      <td>0.93</td>\n",
       "      <td>0.93</td>\n",
       "      <td>0.93</td>\n",
       "      <td>0.01</td>\n",
       "    </tr>\n",
       "    <tr>\n",
       "      <th>LinearDiscriminantAnalysis</th>\n",
       "      <td>0.94</td>\n",
       "      <td>0.93</td>\n",
       "      <td>0.93</td>\n",
       "      <td>0.93</td>\n",
       "      <td>0.03</td>\n",
       "    </tr>\n",
       "    <tr>\n",
       "      <th>NearestCentroid</th>\n",
       "      <td>0.94</td>\n",
       "      <td>0.93</td>\n",
       "      <td>0.93</td>\n",
       "      <td>0.93</td>\n",
       "      <td>0.01</td>\n",
       "    </tr>\n",
       "    <tr>\n",
       "      <th>Perceptron</th>\n",
       "      <td>0.93</td>\n",
       "      <td>0.93</td>\n",
       "      <td>0.93</td>\n",
       "      <td>0.93</td>\n",
       "      <td>0.01</td>\n",
       "    </tr>\n",
       "    <tr>\n",
       "      <th>SVC</th>\n",
       "      <td>0.93</td>\n",
       "      <td>0.92</td>\n",
       "      <td>0.92</td>\n",
       "      <td>0.92</td>\n",
       "      <td>0.03</td>\n",
       "    </tr>\n",
       "    <tr>\n",
       "      <th>SGDClassifier</th>\n",
       "      <td>0.92</td>\n",
       "      <td>0.92</td>\n",
       "      <td>0.92</td>\n",
       "      <td>0.92</td>\n",
       "      <td>0.01</td>\n",
       "    </tr>\n",
       "    <tr>\n",
       "      <th>NuSVC</th>\n",
       "      <td>0.92</td>\n",
       "      <td>0.92</td>\n",
       "      <td>0.92</td>\n",
       "      <td>0.92</td>\n",
       "      <td>0.04</td>\n",
       "    </tr>\n",
       "    <tr>\n",
       "      <th>BernoulliNB</th>\n",
       "      <td>0.91</td>\n",
       "      <td>0.90</td>\n",
       "      <td>0.90</td>\n",
       "      <td>0.90</td>\n",
       "      <td>0.01</td>\n",
       "    </tr>\n",
       "    <tr>\n",
       "      <th>ExtraTreeClassifier</th>\n",
       "      <td>0.83</td>\n",
       "      <td>0.83</td>\n",
       "      <td>0.83</td>\n",
       "      <td>0.83</td>\n",
       "      <td>0.02</td>\n",
       "    </tr>\n",
       "    <tr>\n",
       "      <th>GaussianNB</th>\n",
       "      <td>0.79</td>\n",
       "      <td>0.79</td>\n",
       "      <td>0.79</td>\n",
       "      <td>0.79</td>\n",
       "      <td>0.01</td>\n",
       "    </tr>\n",
       "    <tr>\n",
       "      <th>KNeighborsClassifier</th>\n",
       "      <td>0.71</td>\n",
       "      <td>0.71</td>\n",
       "      <td>0.71</td>\n",
       "      <td>0.71</td>\n",
       "      <td>0.02</td>\n",
       "    </tr>\n",
       "    <tr>\n",
       "      <th>LabelSpreading</th>\n",
       "      <td>0.70</td>\n",
       "      <td>0.70</td>\n",
       "      <td>0.70</td>\n",
       "      <td>0.70</td>\n",
       "      <td>0.05</td>\n",
       "    </tr>\n",
       "    <tr>\n",
       "      <th>LabelPropagation</th>\n",
       "      <td>0.70</td>\n",
       "      <td>0.70</td>\n",
       "      <td>0.70</td>\n",
       "      <td>0.70</td>\n",
       "      <td>0.05</td>\n",
       "    </tr>\n",
       "    <tr>\n",
       "      <th>QuadraticDiscriminantAnalysis</th>\n",
       "      <td>0.53</td>\n",
       "      <td>0.53</td>\n",
       "      <td>0.53</td>\n",
       "      <td>0.52</td>\n",
       "      <td>0.04</td>\n",
       "    </tr>\n",
       "    <tr>\n",
       "      <th>DummyClassifier</th>\n",
       "      <td>0.48</td>\n",
       "      <td>0.50</td>\n",
       "      <td>0.50</td>\n",
       "      <td>0.32</td>\n",
       "      <td>0.02</td>\n",
       "    </tr>\n",
       "  </tbody>\n",
       "</table>\n",
       "</div>"
      ],
      "text/plain": [
       "                               Accuracy  Balanced Accuracy  ROC AUC  F1 Score  \\\n",
       "Model                                                                           \n",
       "XGBClassifier                      0.96               0.96     0.96      0.96   \n",
       "RandomForestClassifier             0.96               0.96     0.96      0.96   \n",
       "LGBMClassifier                     0.95               0.95     0.95      0.95   \n",
       "BaggingClassifier                  0.95               0.95     0.95      0.95   \n",
       "LogisticRegression                 0.94               0.94     0.94      0.94   \n",
       "AdaBoostClassifier                 0.94               0.94     0.94      0.94   \n",
       "LinearSVC                          0.94               0.94     0.94      0.94   \n",
       "ExtraTreesClassifier               0.94               0.94     0.94      0.94   \n",
       "CalibratedClassifierCV             0.94               0.94     0.94      0.94   \n",
       "DecisionTreeClassifier             0.94               0.93     0.93      0.93   \n",
       "PassiveAggressiveClassifier        0.94               0.93     0.93      0.93   \n",
       "RidgeClassifierCV                  0.94               0.93     0.93      0.93   \n",
       "RidgeClassifier                    0.94               0.93     0.93      0.93   \n",
       "LinearDiscriminantAnalysis         0.94               0.93     0.93      0.93   \n",
       "NearestCentroid                    0.94               0.93     0.93      0.93   \n",
       "Perceptron                         0.93               0.93     0.93      0.93   \n",
       "SVC                                0.93               0.92     0.92      0.92   \n",
       "SGDClassifier                      0.92               0.92     0.92      0.92   \n",
       "NuSVC                              0.92               0.92     0.92      0.92   \n",
       "BernoulliNB                        0.91               0.90     0.90      0.90   \n",
       "ExtraTreeClassifier                0.83               0.83     0.83      0.83   \n",
       "GaussianNB                         0.79               0.79     0.79      0.79   \n",
       "KNeighborsClassifier               0.71               0.71     0.71      0.71   \n",
       "LabelSpreading                     0.70               0.70     0.70      0.70   \n",
       "LabelPropagation                   0.70               0.70     0.70      0.70   \n",
       "QuadraticDiscriminantAnalysis      0.53               0.53     0.53      0.52   \n",
       "DummyClassifier                    0.48               0.50     0.50      0.32   \n",
       "\n",
       "                               Time Taken  \n",
       "Model                                      \n",
       "XGBClassifier                        0.09  \n",
       "RandomForestClassifier               0.15  \n",
       "LGBMClassifier                       0.17  \n",
       "BaggingClassifier                    0.04  \n",
       "LogisticRegression                   0.02  \n",
       "AdaBoostClassifier                   0.23  \n",
       "LinearSVC                            0.02  \n",
       "ExtraTreesClassifier                 0.14  \n",
       "CalibratedClassifierCV               0.11  \n",
       "DecisionTreeClassifier               0.02  \n",
       "PassiveAggressiveClassifier          0.01  \n",
       "RidgeClassifierCV                    0.03  \n",
       "RidgeClassifier                      0.01  \n",
       "LinearDiscriminantAnalysis           0.03  \n",
       "NearestCentroid                      0.01  \n",
       "Perceptron                           0.01  \n",
       "SVC                                  0.03  \n",
       "SGDClassifier                        0.01  \n",
       "NuSVC                                0.04  \n",
       "BernoulliNB                          0.01  \n",
       "ExtraTreeClassifier                  0.02  \n",
       "GaussianNB                           0.01  \n",
       "KNeighborsClassifier                 0.02  \n",
       "LabelSpreading                       0.05  \n",
       "LabelPropagation                     0.05  \n",
       "QuadraticDiscriminantAnalysis        0.04  \n",
       "DummyClassifier                      0.02  "
      ]
     },
     "execution_count": 42,
     "metadata": {},
     "output_type": "execute_result"
    }
   ],
   "source": [
    "model_dictionary = clf.provide_models(x_train2,x_test2,y_train2,y_test2)\n",
    "models_2"
   ]
  },
  {
   "cell_type": "markdown",
   "id": "4c2e7617-89f3-4e29-8804-3fa49dd75ead",
   "metadata": {},
   "source": [
    "## Result from Experiment"
   ]
  },
  {
   "cell_type": "code",
   "execution_count": 43,
   "id": "25c584c6-3cf0-44fb-b0e1-223e343b33ec",
   "metadata": {},
   "outputs": [],
   "source": [
    "models_2c = models_2.copy().reset_index()\n",
    "\n",
    "a = list(models_2c.columns)\n",
    "a = [item + ' exp_2' for item in a]\n",
    "\n",
    "models_2c.columns = a\n",
    "\n",
    "models = models.reset_index()\n",
    "result = pd.merge(models, models_2c, left_on='Model', right_on='Model exp_2')"
   ]
  },
  {
   "cell_type": "code",
   "execution_count": 44,
   "id": "b63ab0cc-f07a-47c0-b92c-5724dace98b5",
   "metadata": {},
   "outputs": [
    {
     "data": {
      "text/html": [
       "<div>\n",
       "<style scoped>\n",
       "    .dataframe tbody tr th:only-of-type {\n",
       "        vertical-align: middle;\n",
       "    }\n",
       "\n",
       "    .dataframe tbody tr th {\n",
       "        vertical-align: top;\n",
       "    }\n",
       "\n",
       "    .dataframe thead th {\n",
       "        text-align: right;\n",
       "    }\n",
       "</style>\n",
       "<table border=\"1\" class=\"dataframe\">\n",
       "  <thead>\n",
       "    <tr style=\"text-align: right;\">\n",
       "      <th></th>\n",
       "      <th>Model</th>\n",
       "      <th>Accuracy</th>\n",
       "      <th>Balanced Accuracy</th>\n",
       "      <th>ROC AUC</th>\n",
       "      <th>F1 Score</th>\n",
       "      <th>Time Taken</th>\n",
       "      <th>Accuracy exp_2</th>\n",
       "      <th>Balanced Accuracy exp_2</th>\n",
       "      <th>ROC AUC exp_2</th>\n",
       "      <th>F1 Score exp_2</th>\n",
       "      <th>Time Taken exp_2</th>\n",
       "    </tr>\n",
       "  </thead>\n",
       "  <tbody>\n",
       "    <tr>\n",
       "      <th>0</th>\n",
       "      <td>XGBClassifier</td>\n",
       "      <td>0.96</td>\n",
       "      <td>0.96</td>\n",
       "      <td>0.96</td>\n",
       "      <td>0.96</td>\n",
       "      <td>0.14</td>\n",
       "      <td>0.96</td>\n",
       "      <td>0.96</td>\n",
       "      <td>0.96</td>\n",
       "      <td>0.96</td>\n",
       "      <td>0.09</td>\n",
       "    </tr>\n",
       "    <tr>\n",
       "      <th>1</th>\n",
       "      <td>RandomForestClassifier</td>\n",
       "      <td>0.96</td>\n",
       "      <td>0.96</td>\n",
       "      <td>0.96</td>\n",
       "      <td>0.96</td>\n",
       "      <td>0.17</td>\n",
       "      <td>0.96</td>\n",
       "      <td>0.96</td>\n",
       "      <td>0.96</td>\n",
       "      <td>0.96</td>\n",
       "      <td>0.15</td>\n",
       "    </tr>\n",
       "    <tr>\n",
       "      <th>2</th>\n",
       "      <td>LGBMClassifier</td>\n",
       "      <td>0.95</td>\n",
       "      <td>0.95</td>\n",
       "      <td>0.95</td>\n",
       "      <td>0.95</td>\n",
       "      <td>0.17</td>\n",
       "      <td>0.95</td>\n",
       "      <td>0.95</td>\n",
       "      <td>0.95</td>\n",
       "      <td>0.95</td>\n",
       "      <td>0.17</td>\n",
       "    </tr>\n",
       "    <tr>\n",
       "      <th>3</th>\n",
       "      <td>BaggingClassifier</td>\n",
       "      <td>0.95</td>\n",
       "      <td>0.95</td>\n",
       "      <td>0.95</td>\n",
       "      <td>0.95</td>\n",
       "      <td>0.04</td>\n",
       "      <td>0.95</td>\n",
       "      <td>0.95</td>\n",
       "      <td>0.95</td>\n",
       "      <td>0.95</td>\n",
       "      <td>0.04</td>\n",
       "    </tr>\n",
       "    <tr>\n",
       "      <th>4</th>\n",
       "      <td>LogisticRegression</td>\n",
       "      <td>0.94</td>\n",
       "      <td>0.94</td>\n",
       "      <td>0.94</td>\n",
       "      <td>0.94</td>\n",
       "      <td>0.02</td>\n",
       "      <td>0.94</td>\n",
       "      <td>0.94</td>\n",
       "      <td>0.94</td>\n",
       "      <td>0.94</td>\n",
       "      <td>0.02</td>\n",
       "    </tr>\n",
       "    <tr>\n",
       "      <th>5</th>\n",
       "      <td>AdaBoostClassifier</td>\n",
       "      <td>0.94</td>\n",
       "      <td>0.94</td>\n",
       "      <td>0.94</td>\n",
       "      <td>0.94</td>\n",
       "      <td>0.12</td>\n",
       "      <td>0.94</td>\n",
       "      <td>0.94</td>\n",
       "      <td>0.94</td>\n",
       "      <td>0.94</td>\n",
       "      <td>0.23</td>\n",
       "    </tr>\n",
       "    <tr>\n",
       "      <th>6</th>\n",
       "      <td>LinearSVC</td>\n",
       "      <td>0.94</td>\n",
       "      <td>0.94</td>\n",
       "      <td>0.94</td>\n",
       "      <td>0.94</td>\n",
       "      <td>0.02</td>\n",
       "      <td>0.94</td>\n",
       "      <td>0.94</td>\n",
       "      <td>0.94</td>\n",
       "      <td>0.94</td>\n",
       "      <td>0.02</td>\n",
       "    </tr>\n",
       "    <tr>\n",
       "      <th>7</th>\n",
       "      <td>ExtraTreesClassifier</td>\n",
       "      <td>0.94</td>\n",
       "      <td>0.94</td>\n",
       "      <td>0.94</td>\n",
       "      <td>0.94</td>\n",
       "      <td>0.18</td>\n",
       "      <td>0.94</td>\n",
       "      <td>0.94</td>\n",
       "      <td>0.94</td>\n",
       "      <td>0.94</td>\n",
       "      <td>0.14</td>\n",
       "    </tr>\n",
       "    <tr>\n",
       "      <th>8</th>\n",
       "      <td>CalibratedClassifierCV</td>\n",
       "      <td>0.94</td>\n",
       "      <td>0.94</td>\n",
       "      <td>0.94</td>\n",
       "      <td>0.94</td>\n",
       "      <td>0.08</td>\n",
       "      <td>0.94</td>\n",
       "      <td>0.94</td>\n",
       "      <td>0.94</td>\n",
       "      <td>0.94</td>\n",
       "      <td>0.11</td>\n",
       "    </tr>\n",
       "    <tr>\n",
       "      <th>9</th>\n",
       "      <td>DecisionTreeClassifier</td>\n",
       "      <td>0.94</td>\n",
       "      <td>0.93</td>\n",
       "      <td>0.93</td>\n",
       "      <td>0.93</td>\n",
       "      <td>0.01</td>\n",
       "      <td>0.94</td>\n",
       "      <td>0.93</td>\n",
       "      <td>0.93</td>\n",
       "      <td>0.93</td>\n",
       "      <td>0.02</td>\n",
       "    </tr>\n",
       "    <tr>\n",
       "      <th>10</th>\n",
       "      <td>PassiveAggressiveClassifier</td>\n",
       "      <td>0.94</td>\n",
       "      <td>0.93</td>\n",
       "      <td>0.93</td>\n",
       "      <td>0.93</td>\n",
       "      <td>0.02</td>\n",
       "      <td>0.94</td>\n",
       "      <td>0.93</td>\n",
       "      <td>0.93</td>\n",
       "      <td>0.93</td>\n",
       "      <td>0.01</td>\n",
       "    </tr>\n",
       "    <tr>\n",
       "      <th>11</th>\n",
       "      <td>RidgeClassifierCV</td>\n",
       "      <td>0.94</td>\n",
       "      <td>0.93</td>\n",
       "      <td>0.93</td>\n",
       "      <td>0.93</td>\n",
       "      <td>0.04</td>\n",
       "      <td>0.94</td>\n",
       "      <td>0.93</td>\n",
       "      <td>0.93</td>\n",
       "      <td>0.93</td>\n",
       "      <td>0.03</td>\n",
       "    </tr>\n",
       "    <tr>\n",
       "      <th>12</th>\n",
       "      <td>RidgeClassifier</td>\n",
       "      <td>0.94</td>\n",
       "      <td>0.93</td>\n",
       "      <td>0.93</td>\n",
       "      <td>0.93</td>\n",
       "      <td>0.02</td>\n",
       "      <td>0.94</td>\n",
       "      <td>0.93</td>\n",
       "      <td>0.93</td>\n",
       "      <td>0.93</td>\n",
       "      <td>0.01</td>\n",
       "    </tr>\n",
       "    <tr>\n",
       "      <th>13</th>\n",
       "      <td>LinearDiscriminantAnalysis</td>\n",
       "      <td>0.94</td>\n",
       "      <td>0.93</td>\n",
       "      <td>0.93</td>\n",
       "      <td>0.93</td>\n",
       "      <td>0.03</td>\n",
       "      <td>0.94</td>\n",
       "      <td>0.93</td>\n",
       "      <td>0.93</td>\n",
       "      <td>0.93</td>\n",
       "      <td>0.03</td>\n",
       "    </tr>\n",
       "    <tr>\n",
       "      <th>14</th>\n",
       "      <td>NearestCentroid</td>\n",
       "      <td>0.94</td>\n",
       "      <td>0.93</td>\n",
       "      <td>0.93</td>\n",
       "      <td>0.93</td>\n",
       "      <td>0.01</td>\n",
       "      <td>0.94</td>\n",
       "      <td>0.93</td>\n",
       "      <td>0.93</td>\n",
       "      <td>0.93</td>\n",
       "      <td>0.01</td>\n",
       "    </tr>\n",
       "    <tr>\n",
       "      <th>15</th>\n",
       "      <td>Perceptron</td>\n",
       "      <td>0.93</td>\n",
       "      <td>0.93</td>\n",
       "      <td>0.93</td>\n",
       "      <td>0.93</td>\n",
       "      <td>0.02</td>\n",
       "      <td>0.93</td>\n",
       "      <td>0.93</td>\n",
       "      <td>0.93</td>\n",
       "      <td>0.93</td>\n",
       "      <td>0.01</td>\n",
       "    </tr>\n",
       "    <tr>\n",
       "      <th>16</th>\n",
       "      <td>SVC</td>\n",
       "      <td>0.93</td>\n",
       "      <td>0.92</td>\n",
       "      <td>0.92</td>\n",
       "      <td>0.92</td>\n",
       "      <td>0.03</td>\n",
       "      <td>0.93</td>\n",
       "      <td>0.92</td>\n",
       "      <td>0.92</td>\n",
       "      <td>0.92</td>\n",
       "      <td>0.03</td>\n",
       "    </tr>\n",
       "    <tr>\n",
       "      <th>17</th>\n",
       "      <td>SGDClassifier</td>\n",
       "      <td>0.92</td>\n",
       "      <td>0.92</td>\n",
       "      <td>0.92</td>\n",
       "      <td>0.92</td>\n",
       "      <td>0.02</td>\n",
       "      <td>0.92</td>\n",
       "      <td>0.92</td>\n",
       "      <td>0.92</td>\n",
       "      <td>0.92</td>\n",
       "      <td>0.01</td>\n",
       "    </tr>\n",
       "    <tr>\n",
       "      <th>18</th>\n",
       "      <td>NuSVC</td>\n",
       "      <td>0.92</td>\n",
       "      <td>0.92</td>\n",
       "      <td>0.92</td>\n",
       "      <td>0.92</td>\n",
       "      <td>0.05</td>\n",
       "      <td>0.92</td>\n",
       "      <td>0.92</td>\n",
       "      <td>0.92</td>\n",
       "      <td>0.92</td>\n",
       "      <td>0.04</td>\n",
       "    </tr>\n",
       "    <tr>\n",
       "      <th>19</th>\n",
       "      <td>BernoulliNB</td>\n",
       "      <td>0.91</td>\n",
       "      <td>0.90</td>\n",
       "      <td>0.90</td>\n",
       "      <td>0.90</td>\n",
       "      <td>0.01</td>\n",
       "      <td>0.91</td>\n",
       "      <td>0.90</td>\n",
       "      <td>0.90</td>\n",
       "      <td>0.90</td>\n",
       "      <td>0.01</td>\n",
       "    </tr>\n",
       "    <tr>\n",
       "      <th>20</th>\n",
       "      <td>ExtraTreeClassifier</td>\n",
       "      <td>0.83</td>\n",
       "      <td>0.83</td>\n",
       "      <td>0.83</td>\n",
       "      <td>0.83</td>\n",
       "      <td>0.02</td>\n",
       "      <td>0.83</td>\n",
       "      <td>0.83</td>\n",
       "      <td>0.83</td>\n",
       "      <td>0.83</td>\n",
       "      <td>0.02</td>\n",
       "    </tr>\n",
       "    <tr>\n",
       "      <th>21</th>\n",
       "      <td>GaussianNB</td>\n",
       "      <td>0.79</td>\n",
       "      <td>0.79</td>\n",
       "      <td>0.79</td>\n",
       "      <td>0.79</td>\n",
       "      <td>0.01</td>\n",
       "      <td>0.79</td>\n",
       "      <td>0.79</td>\n",
       "      <td>0.79</td>\n",
       "      <td>0.79</td>\n",
       "      <td>0.01</td>\n",
       "    </tr>\n",
       "    <tr>\n",
       "      <th>22</th>\n",
       "      <td>KNeighborsClassifier</td>\n",
       "      <td>0.71</td>\n",
       "      <td>0.71</td>\n",
       "      <td>0.71</td>\n",
       "      <td>0.71</td>\n",
       "      <td>0.03</td>\n",
       "      <td>0.71</td>\n",
       "      <td>0.71</td>\n",
       "      <td>0.71</td>\n",
       "      <td>0.71</td>\n",
       "      <td>0.02</td>\n",
       "    </tr>\n",
       "    <tr>\n",
       "      <th>23</th>\n",
       "      <td>LabelSpreading</td>\n",
       "      <td>0.70</td>\n",
       "      <td>0.70</td>\n",
       "      <td>0.70</td>\n",
       "      <td>0.70</td>\n",
       "      <td>0.08</td>\n",
       "      <td>0.70</td>\n",
       "      <td>0.70</td>\n",
       "      <td>0.70</td>\n",
       "      <td>0.70</td>\n",
       "      <td>0.05</td>\n",
       "    </tr>\n",
       "    <tr>\n",
       "      <th>24</th>\n",
       "      <td>LabelPropagation</td>\n",
       "      <td>0.70</td>\n",
       "      <td>0.70</td>\n",
       "      <td>0.70</td>\n",
       "      <td>0.70</td>\n",
       "      <td>0.08</td>\n",
       "      <td>0.70</td>\n",
       "      <td>0.70</td>\n",
       "      <td>0.70</td>\n",
       "      <td>0.70</td>\n",
       "      <td>0.05</td>\n",
       "    </tr>\n",
       "    <tr>\n",
       "      <th>25</th>\n",
       "      <td>DummyClassifier</td>\n",
       "      <td>0.48</td>\n",
       "      <td>0.50</td>\n",
       "      <td>0.50</td>\n",
       "      <td>0.32</td>\n",
       "      <td>0.01</td>\n",
       "      <td>0.48</td>\n",
       "      <td>0.50</td>\n",
       "      <td>0.50</td>\n",
       "      <td>0.32</td>\n",
       "      <td>0.02</td>\n",
       "    </tr>\n",
       "    <tr>\n",
       "      <th>26</th>\n",
       "      <td>QuadraticDiscriminantAnalysis</td>\n",
       "      <td>0.48</td>\n",
       "      <td>0.50</td>\n",
       "      <td>0.50</td>\n",
       "      <td>0.33</td>\n",
       "      <td>0.05</td>\n",
       "      <td>0.53</td>\n",
       "      <td>0.53</td>\n",
       "      <td>0.53</td>\n",
       "      <td>0.52</td>\n",
       "      <td>0.04</td>\n",
       "    </tr>\n",
       "  </tbody>\n",
       "</table>\n",
       "</div>"
      ],
      "text/plain": [
       "                            Model  Accuracy  Balanced Accuracy  ROC AUC  \\\n",
       "0                   XGBClassifier      0.96               0.96     0.96   \n",
       "1          RandomForestClassifier      0.96               0.96     0.96   \n",
       "2                  LGBMClassifier      0.95               0.95     0.95   \n",
       "3               BaggingClassifier      0.95               0.95     0.95   \n",
       "4              LogisticRegression      0.94               0.94     0.94   \n",
       "5              AdaBoostClassifier      0.94               0.94     0.94   \n",
       "6                       LinearSVC      0.94               0.94     0.94   \n",
       "7            ExtraTreesClassifier      0.94               0.94     0.94   \n",
       "8          CalibratedClassifierCV      0.94               0.94     0.94   \n",
       "9          DecisionTreeClassifier      0.94               0.93     0.93   \n",
       "10    PassiveAggressiveClassifier      0.94               0.93     0.93   \n",
       "11              RidgeClassifierCV      0.94               0.93     0.93   \n",
       "12                RidgeClassifier      0.94               0.93     0.93   \n",
       "13     LinearDiscriminantAnalysis      0.94               0.93     0.93   \n",
       "14                NearestCentroid      0.94               0.93     0.93   \n",
       "15                     Perceptron      0.93               0.93     0.93   \n",
       "16                            SVC      0.93               0.92     0.92   \n",
       "17                  SGDClassifier      0.92               0.92     0.92   \n",
       "18                          NuSVC      0.92               0.92     0.92   \n",
       "19                    BernoulliNB      0.91               0.90     0.90   \n",
       "20            ExtraTreeClassifier      0.83               0.83     0.83   \n",
       "21                     GaussianNB      0.79               0.79     0.79   \n",
       "22           KNeighborsClassifier      0.71               0.71     0.71   \n",
       "23                 LabelSpreading      0.70               0.70     0.70   \n",
       "24               LabelPropagation      0.70               0.70     0.70   \n",
       "25                DummyClassifier      0.48               0.50     0.50   \n",
       "26  QuadraticDiscriminantAnalysis      0.48               0.50     0.50   \n",
       "\n",
       "    F1 Score  Time Taken  Accuracy exp_2  Balanced Accuracy exp_2  \\\n",
       "0       0.96        0.14            0.96                     0.96   \n",
       "1       0.96        0.17            0.96                     0.96   \n",
       "2       0.95        0.17            0.95                     0.95   \n",
       "3       0.95        0.04            0.95                     0.95   \n",
       "4       0.94        0.02            0.94                     0.94   \n",
       "5       0.94        0.12            0.94                     0.94   \n",
       "6       0.94        0.02            0.94                     0.94   \n",
       "7       0.94        0.18            0.94                     0.94   \n",
       "8       0.94        0.08            0.94                     0.94   \n",
       "9       0.93        0.01            0.94                     0.93   \n",
       "10      0.93        0.02            0.94                     0.93   \n",
       "11      0.93        0.04            0.94                     0.93   \n",
       "12      0.93        0.02            0.94                     0.93   \n",
       "13      0.93        0.03            0.94                     0.93   \n",
       "14      0.93        0.01            0.94                     0.93   \n",
       "15      0.93        0.02            0.93                     0.93   \n",
       "16      0.92        0.03            0.93                     0.92   \n",
       "17      0.92        0.02            0.92                     0.92   \n",
       "18      0.92        0.05            0.92                     0.92   \n",
       "19      0.90        0.01            0.91                     0.90   \n",
       "20      0.83        0.02            0.83                     0.83   \n",
       "21      0.79        0.01            0.79                     0.79   \n",
       "22      0.71        0.03            0.71                     0.71   \n",
       "23      0.70        0.08            0.70                     0.70   \n",
       "24      0.70        0.08            0.70                     0.70   \n",
       "25      0.32        0.01            0.48                     0.50   \n",
       "26      0.33        0.05            0.53                     0.53   \n",
       "\n",
       "    ROC AUC exp_2  F1 Score exp_2  Time Taken exp_2  \n",
       "0            0.96            0.96              0.09  \n",
       "1            0.96            0.96              0.15  \n",
       "2            0.95            0.95              0.17  \n",
       "3            0.95            0.95              0.04  \n",
       "4            0.94            0.94              0.02  \n",
       "5            0.94            0.94              0.23  \n",
       "6            0.94            0.94              0.02  \n",
       "7            0.94            0.94              0.14  \n",
       "8            0.94            0.94              0.11  \n",
       "9            0.93            0.93              0.02  \n",
       "10           0.93            0.93              0.01  \n",
       "11           0.93            0.93              0.03  \n",
       "12           0.93            0.93              0.01  \n",
       "13           0.93            0.93              0.03  \n",
       "14           0.93            0.93              0.01  \n",
       "15           0.93            0.93              0.01  \n",
       "16           0.92            0.92              0.03  \n",
       "17           0.92            0.92              0.01  \n",
       "18           0.92            0.92              0.04  \n",
       "19           0.90            0.90              0.01  \n",
       "20           0.83            0.83              0.02  \n",
       "21           0.79            0.79              0.01  \n",
       "22           0.71            0.71              0.02  \n",
       "23           0.70            0.70              0.05  \n",
       "24           0.70            0.70              0.05  \n",
       "25           0.50            0.32              0.02  \n",
       "26           0.53            0.52              0.04  "
      ]
     },
     "execution_count": 44,
     "metadata": {},
     "output_type": "execute_result"
    }
   ],
   "source": [
    "result.drop(columns = 'Model exp_2')"
   ]
  },
  {
   "cell_type": "markdown",
   "id": "00b3d4b0-66ef-4541-a6a3-6f94307187c2",
   "metadata": {},
   "source": [
    "From the experiment, we can see XGBoost classifier with data that has passed all data preprocessing have the best evaluation parameter where who make the difference between two experiment is time taken, model with data have been preprocessed have a fewer time to process the data."
   ]
  },
  {
   "cell_type": "markdown",
   "id": "b075dbd2-4262-46af-bfa0-cb7090811abe",
   "metadata": {},
   "source": [
    "## Make XGBoost model"
   ]
  },
  {
   "cell_type": "code",
   "execution_count": 45,
   "id": "e818e6fb-9b61-4a42-86b2-7a95a9eea364",
   "metadata": {},
   "outputs": [
    {
     "data": {
      "text/html": [
       "<style>#sk-container-id-1 {color: black;background-color: white;}#sk-container-id-1 pre{padding: 0;}#sk-container-id-1 div.sk-toggleable {background-color: white;}#sk-container-id-1 label.sk-toggleable__label {cursor: pointer;display: block;width: 100%;margin-bottom: 0;padding: 0.3em;box-sizing: border-box;text-align: center;}#sk-container-id-1 label.sk-toggleable__label-arrow:before {content: \"▸\";float: left;margin-right: 0.25em;color: #696969;}#sk-container-id-1 label.sk-toggleable__label-arrow:hover:before {color: black;}#sk-container-id-1 div.sk-estimator:hover label.sk-toggleable__label-arrow:before {color: black;}#sk-container-id-1 div.sk-toggleable__content {max-height: 0;max-width: 0;overflow: hidden;text-align: left;background-color: #f0f8ff;}#sk-container-id-1 div.sk-toggleable__content pre {margin: 0.2em;color: black;border-radius: 0.25em;background-color: #f0f8ff;}#sk-container-id-1 input.sk-toggleable__control:checked~div.sk-toggleable__content {max-height: 200px;max-width: 100%;overflow: auto;}#sk-container-id-1 input.sk-toggleable__control:checked~label.sk-toggleable__label-arrow:before {content: \"▾\";}#sk-container-id-1 div.sk-estimator input.sk-toggleable__control:checked~label.sk-toggleable__label {background-color: #d4ebff;}#sk-container-id-1 div.sk-label input.sk-toggleable__control:checked~label.sk-toggleable__label {background-color: #d4ebff;}#sk-container-id-1 input.sk-hidden--visually {border: 0;clip: rect(1px 1px 1px 1px);clip: rect(1px, 1px, 1px, 1px);height: 1px;margin: -1px;overflow: hidden;padding: 0;position: absolute;width: 1px;}#sk-container-id-1 div.sk-estimator {font-family: monospace;background-color: #f0f8ff;border: 1px dotted black;border-radius: 0.25em;box-sizing: border-box;margin-bottom: 0.5em;}#sk-container-id-1 div.sk-estimator:hover {background-color: #d4ebff;}#sk-container-id-1 div.sk-parallel-item::after {content: \"\";width: 100%;border-bottom: 1px solid gray;flex-grow: 1;}#sk-container-id-1 div.sk-label:hover label.sk-toggleable__label {background-color: #d4ebff;}#sk-container-id-1 div.sk-serial::before {content: \"\";position: absolute;border-left: 1px solid gray;box-sizing: border-box;top: 0;bottom: 0;left: 50%;z-index: 0;}#sk-container-id-1 div.sk-serial {display: flex;flex-direction: column;align-items: center;background-color: white;padding-right: 0.2em;padding-left: 0.2em;position: relative;}#sk-container-id-1 div.sk-item {position: relative;z-index: 1;}#sk-container-id-1 div.sk-parallel {display: flex;align-items: stretch;justify-content: center;background-color: white;position: relative;}#sk-container-id-1 div.sk-item::before, #sk-container-id-1 div.sk-parallel-item::before {content: \"\";position: absolute;border-left: 1px solid gray;box-sizing: border-box;top: 0;bottom: 0;left: 50%;z-index: -1;}#sk-container-id-1 div.sk-parallel-item {display: flex;flex-direction: column;z-index: 1;position: relative;background-color: white;}#sk-container-id-1 div.sk-parallel-item:first-child::after {align-self: flex-end;width: 50%;}#sk-container-id-1 div.sk-parallel-item:last-child::after {align-self: flex-start;width: 50%;}#sk-container-id-1 div.sk-parallel-item:only-child::after {width: 0;}#sk-container-id-1 div.sk-dashed-wrapped {border: 1px dashed gray;margin: 0 0.4em 0.5em 0.4em;box-sizing: border-box;padding-bottom: 0.4em;background-color: white;}#sk-container-id-1 div.sk-label label {font-family: monospace;font-weight: bold;display: inline-block;line-height: 1.2em;}#sk-container-id-1 div.sk-label-container {text-align: center;}#sk-container-id-1 div.sk-container {/* jupyter's `normalize.less` sets `[hidden] { display: none; }` but bootstrap.min.css set `[hidden] { display: none !important; }` so we also need the `!important` here to be able to override the default hidden behavior on the sphinx rendered scikit-learn.org. See: https://github.com/scikit-learn/scikit-learn/issues/21755 */display: inline-block !important;position: relative;}#sk-container-id-1 div.sk-text-repr-fallback {display: none;}</style><div id=\"sk-container-id-1\" class=\"sk-top-container\"><div class=\"sk-text-repr-fallback\"><pre>XGBClassifier(base_score=0.5, booster=&#x27;gbtree&#x27;, callbacks=None,\n",
       "              colsample_bylevel=1, colsample_bynode=1, colsample_bytree=1,\n",
       "              early_stopping_rounds=None, enable_categorical=False,\n",
       "              eval_metric=None, gamma=0, gpu_id=-1, grow_policy=&#x27;depthwise&#x27;,\n",
       "              importance_type=None, interaction_constraints=&#x27;&#x27;,\n",
       "              learning_rate=0.300000012, max_bin=256, max_cat_to_onehot=4,\n",
       "              max_delta_step=0, max_depth=6, max_leaves=0, min_child_weight=1,\n",
       "              missing=nan, monotone_constraints=&#x27;()&#x27;, n_estimators=100,\n",
       "              n_jobs=0, num_parallel_tree=1, predictor=&#x27;auto&#x27;, random_state=42,\n",
       "              reg_alpha=0, reg_lambda=1, ...)</pre><b>In a Jupyter environment, please rerun this cell to show the HTML representation or trust the notebook. <br />On GitHub, the HTML representation is unable to render, please try loading this page with nbviewer.org.</b></div><div class=\"sk-container\" hidden><div class=\"sk-item\"><div class=\"sk-estimator sk-toggleable\"><input class=\"sk-toggleable__control sk-hidden--visually\" id=\"sk-estimator-id-1\" type=\"checkbox\" checked><label for=\"sk-estimator-id-1\" class=\"sk-toggleable__label sk-toggleable__label-arrow\">XGBClassifier</label><div class=\"sk-toggleable__content\"><pre>XGBClassifier(base_score=0.5, booster=&#x27;gbtree&#x27;, callbacks=None,\n",
       "              colsample_bylevel=1, colsample_bynode=1, colsample_bytree=1,\n",
       "              early_stopping_rounds=None, enable_categorical=False,\n",
       "              eval_metric=None, gamma=0, gpu_id=-1, grow_policy=&#x27;depthwise&#x27;,\n",
       "              importance_type=None, interaction_constraints=&#x27;&#x27;,\n",
       "              learning_rate=0.300000012, max_bin=256, max_cat_to_onehot=4,\n",
       "              max_delta_step=0, max_depth=6, max_leaves=0, min_child_weight=1,\n",
       "              missing=nan, monotone_constraints=&#x27;()&#x27;, n_estimators=100,\n",
       "              n_jobs=0, num_parallel_tree=1, predictor=&#x27;auto&#x27;, random_state=42,\n",
       "              reg_alpha=0, reg_lambda=1, ...)</pre></div></div></div></div></div>"
      ],
      "text/plain": [
       "XGBClassifier(base_score=0.5, booster='gbtree', callbacks=None,\n",
       "              colsample_bylevel=1, colsample_bynode=1, colsample_bytree=1,\n",
       "              early_stopping_rounds=None, enable_categorical=False,\n",
       "              eval_metric=None, gamma=0, gpu_id=-1, grow_policy='depthwise',\n",
       "              importance_type=None, interaction_constraints='',\n",
       "              learning_rate=0.300000012, max_bin=256, max_cat_to_onehot=4,\n",
       "              max_delta_step=0, max_depth=6, max_leaves=0, min_child_weight=1,\n",
       "              missing=nan, monotone_constraints='()', n_estimators=100,\n",
       "              n_jobs=0, num_parallel_tree=1, predictor='auto', random_state=42,\n",
       "              reg_alpha=0, reg_lambda=1, ...)"
      ]
     },
     "execution_count": 45,
     "metadata": {},
     "output_type": "execute_result"
    }
   ],
   "source": [
    "XGB_model = xgb.XGBClassifier(objective=\"binary:logistic\", random_state=42)\n",
    "XGB_model.fit(x_train2, y_train2)"
   ]
  },
  {
   "cell_type": "markdown",
   "id": "3f5e517c-b381-4b0c-a014-2fb8c36d3885",
   "metadata": {},
   "source": [
    "## Model Evaluation"
   ]
  },
  {
   "cell_type": "markdown",
   "id": "f806d7b8-8a55-4ebd-9e05-a762a4c659d0",
   "metadata": {},
   "source": [
    "### In test data"
   ]
  },
  {
   "cell_type": "code",
   "execution_count": 54,
   "id": "d97408b8-2e61-4d5a-88fa-184919db8fd8",
   "metadata": {},
   "outputs": [],
   "source": [
    "def confusionmatrix(y_test, predictions):\n",
    "    cm = confusion_matrix(y_test, predictions)\n",
    "    disp = ConfusionMatrixDisplay(confusion_matrix=cm, display_labels=['Did not Click','Click'])\n",
    "    return disp.plot()"
   ]
  },
  {
   "cell_type": "code",
   "execution_count": 55,
   "id": "e444686c-56f9-400b-ad3d-ae761ac6b5ee",
   "metadata": {},
   "outputs": [
    {
     "name": "stdout",
     "output_type": "stream",
     "text": [
      "              precision    recall  f1-score   support\n",
      "\n",
      "           0       0.93      1.00      0.96       103\n",
      "           1       1.00      0.92      0.96        97\n",
      "\n",
      "    accuracy                           0.96       200\n",
      "   macro avg       0.96      0.96      0.96       200\n",
      "weighted avg       0.96      0.96      0.96       200\n",
      "\n"
     ]
    },
    {
     "data": {
      "text/plain": [
       "<sklearn.metrics._plot.confusion_matrix.ConfusionMatrixDisplay at 0x1e65040ca90>"
      ]
     },
     "execution_count": 55,
     "metadata": {},
     "output_type": "execute_result"
    },
    {
     "data": {
      "image/png": "[encoded data removed]",
      "text/plain": [
       "<Figure size 432x288 with 2 Axes>"
      ]
     },
     "metadata": {
      "needs_background": "light"
     },
     "output_type": "display_data"
    }
   ],
   "source": [
    "predictions = XGB_model.predict(x_test2)\n",
    "  \n",
    "# print classification report\n",
    "print(classification_report(y_test2, predictions))\n",
    "confusionmatrix(y_test2, predictions)"
   ]
  },
  {
   "cell_type": "markdown",
   "id": "7fe1ec21-07b3-4b48-a7ad-f5643292bbb5",
   "metadata": {},
   "source": [
    "### In training data"
   ]
  },
  {
   "cell_type": "code",
   "execution_count": 56,
   "id": "abf27e07-35f0-4dfe-88ee-42c8da1b85b2",
   "metadata": {},
   "outputs": [
    {
     "name": "stdout",
     "output_type": "stream",
     "text": [
      "              precision    recall  f1-score   support\n",
      "\n",
      "           0       1.00      1.00      1.00       397\n",
      "           1       1.00      1.00      1.00       403\n",
      "\n",
      "    accuracy                           1.00       800\n",
      "   macro avg       1.00      1.00      1.00       800\n",
      "weighted avg       1.00      1.00      1.00       800\n",
      "\n"
     ]
    },
    {
     "data": {
      "text/plain": [
       "<sklearn.metrics._plot.confusion_matrix.ConfusionMatrixDisplay at 0x1e65eca18b0>"
      ]
     },
     "execution_count": 56,
     "metadata": {},
     "output_type": "execute_result"
    },
    {
     "data": {
      "image/png": "[encoded data removed]",
      "text/plain": [
       "<Figure size 432x288 with 2 Axes>"
      ]
     },
     "metadata": {
      "needs_background": "light"
     },
     "output_type": "display_data"
    }
   ],
   "source": [
    "predictions = XGB_model.predict(x_train2)\n",
    "  \n",
    "# print classification report\n",
    "print(classification_report(y_train2, predictions))\n",
    "confusionmatrix(y_train2, predictions)"
   ]
  },
  {
   "cell_type": "markdown",
   "id": "14ff4bb4-ce28-4f4f-88bf-fed2588255ff",
   "metadata": {},
   "source": [
    "We can see at when model was tested with training data, model have 100% accuracy, and at test data model have 96% accuracy, it signifies that our model not overfitting and we have good data."
   ]
  },
  {
   "cell_type": "markdown",
   "id": "53867642-e389-4919-9538-de6a5e767611",
   "metadata": {},
   "source": [
    "### Feature Importance"
   ]
  },
  {
   "cell_type": "code",
   "execution_count": 60,
   "id": "a67dbb79-49a0-4275-b2a4-80471b6f1b0e",
   "metadata": {},
   "outputs": [
    {
     "data": {
      "text/plain": [
       "<AxesSubplot:>"
      ]
     },
     "execution_count": 60,
     "metadata": {},
     "output_type": "execute_result"
    },
    {
     "data": {
      "image/png": "[encoded data removed]",
      "text/plain": [
       "<Figure size 1440x720 with 1 Axes>"
      ]
     },
     "metadata": {
      "needs_background": "light"
     },
     "output_type": "display_data"
    }
   ],
   "source": [
    "feature_important = XGB_model.get_booster().get_score(importance_type='weight')\n",
    "keys = list(feature_important.keys())\n",
    "values = list(feature_important.values())\n",
    "\n",
    "data = pd.DataFrame(data=values, index=keys, columns=[\"score\"]).sort_values(by = \"score\", ascending=False)\n",
    "data.nlargest(40, columns=\"score\").sort_values('score', ascending=True).plot(kind='barh', figsize = (20,10)) ## plot top 40 features"
   ]
  },
  {
   "cell_type": "markdown",
   "id": "05f06e19-83da-4fda-8f45-51fe2bbc5248",
   "metadata": {},
   "source": [
    "# Business Recommendation"
   ]
  },
  {
   "cell_type": "markdown",
   "id": "4927d2a0-efaa-437c-9f63-47596fc75a9d",
   "metadata": {},
   "source": [
    "Based on Anaysis and feature importance from model, it can be concluded that :\n",
    "\n",
    "1. We need to increase showing our ads to customer that meet the following requirement : They have income maximum 3.2 hundred million, are >=40 years old, have <= 60 minutes daily time spent on our site and  have <= 170 minutes daily internet usage.\n",
    "\n",
    "2. For customer that don’t meet criteria at number 1, we need to decrease showing our ads because they are have low amount customer to click our ads. So that we can maximize our budget in advertising."
   ]
  },
  {
   "cell_type": "markdown",
   "id": "60a8e279-55da-4b23-b338-4d44f7843c2c",
   "metadata": {},
   "source": [
    "## Model Bases - Simulation"
   ]
  },
  {
   "cell_type": "markdown",
   "id": "f1731278-3fb1-4ef4-8948-17d927c2ca36",
   "metadata": {},
   "source": [
    "We have a balanced amount of data between targets (50% click our ads and 50% no click our ads). Let’s count if we don’t use our model/do business recommendation :\n",
    "\n",
    "Assumption : \n",
    "\n",
    "We show our ads at Google searchs Ads that have average CPM 38.40 USD (at 2021 via topdraw.com), \n",
    "let’s say if customer click our ads we got $0.1. so :\n",
    "\n",
    "Cost : $38.40\n",
    "\n",
    "Revenue = (1000 * 50%) * $0.1 = $50\n",
    "\n",
    "Profit = Revenue – Cost = $50 - $38.40 = $11.6\n",
    "\n",
    "Now if we use a ML model that has 96% accuracy to determine whether our customers will see our ads or not. We can get a profit per 1000 views of (We use the same assumption as before) :\n",
    "\n",
    "Cost : $38.40\n",
    "\n",
    "Revenue = (1000 * 96%) * $0.1 = $96\n",
    "\n",
    "Profit = Revenue – Cost = $96 - $38.40 = $57.6\n",
    "\n",
    "Is nearly 5 times bigger than if we don’t use ML model."
   ]
  }
 ],
 "metadata": {
  "kernelspec": {
   "display_name": "Python 3 (ipykernel)",
   "language": "python",
   "name": "python3"
  },
  "language_info": {
   "codemirror_mode": {
    "name": "ipython",
    "version": 3
   },
   "file_extension": ".py",
   "mimetype": "text/x-python",
   "name": "python",
   "nbconvert_exporter": "python",
   "pygments_lexer": "ipython3",
   "version": "3.9.7"
  }
 },
 "nbformat": 4,
 "nbformat_minor": 5
}
